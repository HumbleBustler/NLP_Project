{
  "nbformat": 4,
  "nbformat_minor": 0,
  "metadata": {
    "colab": {
      "name": "GPU_Image_spam_hunter.ipynb",
      "provenance": [],
      "collapsed_sections": []
    },
    "kernelspec": {
      "display_name": "Python 3",
      "language": "python",
      "name": "python3"
    },
    "language_info": {
      "codemirror_mode": {
        "name": "ipython",
        "version": 3
      },
      "file_extension": ".py",
      "mimetype": "text/x-python",
      "name": "python",
      "nbconvert_exporter": "python",
      "pygments_lexer": "ipython3",
      "version": "3.7.3"
    },
    "accelerator": "GPU"
  },
  "cells": [
    {
      "cell_type": "code",
      "metadata": {
        "id": "AKI-7a14PpNN"
      },
      "source": [
        "import os, shutil\n",
        "import numpy as np\n",
        "\n",
        "from matplotlib import image, pyplot\n",
        "from skimage.transform import resize\n",
        "\n",
        "\n",
        "from tensorflow.keras.utils import to_categorical\n",
        "from keras.models import Sequential, Model\n",
        "from keras.layers import Conv2D,MaxPool2D,Dense,Flatten,Dropout\n",
        "\n",
        "from keras import callbacks\n",
        "from keras.callbacks import ModelCheckpoint, ReduceLROnPlateau, CSVLogger\n",
        "\n",
        "from sklearn.model_selection import train_test_split\n",
        "from sklearn.metrics import confusion_matrix,accuracy_score, precision_score, f1_score, recall_score,classification_report,roc_curve, auc \n",
        "from sklearn.utils import class_weight\n",
        "\n",
        "from sklearn.linear_model import LogisticRegression\n",
        "from sklearn.naive_bayes import GaussianNB\n",
        "from sklearn.neighbors import KNeighborsClassifier\n",
        "from sklearn.tree import DecisionTreeClassifier\n",
        "from sklearn.ensemble import AdaBoostClassifier, RandomForestClassifier\n",
        "from sklearn.svm import SVC\n",
        "from sklearn import svm\n"
      ],
      "execution_count": 1,
      "outputs": []
    },
    {
      "cell_type": "code",
      "metadata": {
        "colab": {
          "base_uri": "https://localhost:8080/"
        },
        "id": "w7rZCTH4gV5Y",
        "outputId": "d81b5b1a-db8a-4ca2-9ded-f085f23dc4f6"
      },
      "source": [
        "!wget --no-check-certificate http://www.cs.northwestern.edu/~yga751/ML/SpamImages.zip\n",
        "!wget --no-check-certificate http://www.cs.northwestern.edu/~yga751/ML/NaturalImages.zip"
      ],
      "execution_count": 2,
      "outputs": [
        {
          "output_type": "stream",
          "name": "stdout",
          "text": [
            "--2021-10-17 13:58:02--  http://www.cs.northwestern.edu/~yga751/ML/SpamImages.zip\n",
            "Resolving www.cs.northwestern.edu (www.cs.northwestern.edu)... 165.124.180.20\n",
            "Connecting to www.cs.northwestern.edu (www.cs.northwestern.edu)|165.124.180.20|:80... connected.\n",
            "HTTP request sent, awaiting response... 302 Found\n",
            "Location: http://users.cs.northwestern.edu/~yga751/ML/SpamImages.zip [following]\n",
            "--2021-10-17 13:58:02--  http://users.cs.northwestern.edu/~yga751/ML/SpamImages.zip\n",
            "Resolving users.cs.northwestern.edu (users.cs.northwestern.edu)... 165.124.180.20\n",
            "Reusing existing connection to www.cs.northwestern.edu:80.\n",
            "HTTP request sent, awaiting response... 302 Found\n",
            "Location: https://users.cs.northwestern.edu/~yga751/ML/SpamImages.zip [following]\n",
            "--2021-10-17 13:58:03--  https://users.cs.northwestern.edu/~yga751/ML/SpamImages.zip\n",
            "Connecting to users.cs.northwestern.edu (users.cs.northwestern.edu)|165.124.180.20|:443... connected.\n",
            "WARNING: cannot verify users.cs.northwestern.edu's certificate, issued by ‘CN=InCommon RSA Server CA,OU=InCommon,O=Internet2,L=Ann Arbor,ST=MI,C=US’:\n",
            "  Unable to locally verify the issuer's authority.\n",
            "HTTP request sent, awaiting response... 200 OK\n",
            "Length: 37267920 (36M) [application/zip]\n",
            "Saving to: ‘SpamImages.zip’\n",
            "\n",
            "SpamImages.zip      100%[===================>]  35.54M  90.8MB/s    in 0.4s    \n",
            "\n",
            "2021-10-17 13:58:03 (90.8 MB/s) - ‘SpamImages.zip’ saved [37267920/37267920]\n",
            "\n",
            "--2021-10-17 13:58:03--  http://www.cs.northwestern.edu/~yga751/ML/NaturalImages.zip\n",
            "Resolving www.cs.northwestern.edu (www.cs.northwestern.edu)... 165.124.180.20\n",
            "Connecting to www.cs.northwestern.edu (www.cs.northwestern.edu)|165.124.180.20|:80... connected.\n",
            "HTTP request sent, awaiting response... 302 Found\n",
            "Location: http://users.cs.northwestern.edu/~yga751/ML/NaturalImages.zip [following]\n",
            "--2021-10-17 13:58:03--  http://users.cs.northwestern.edu/~yga751/ML/NaturalImages.zip\n",
            "Resolving users.cs.northwestern.edu (users.cs.northwestern.edu)... 165.124.180.20\n",
            "Reusing existing connection to www.cs.northwestern.edu:80.\n",
            "HTTP request sent, awaiting response... 302 Found\n",
            "Location: https://users.cs.northwestern.edu/~yga751/ML/NaturalImages.zip [following]\n",
            "--2021-10-17 13:58:03--  https://users.cs.northwestern.edu/~yga751/ML/NaturalImages.zip\n",
            "Connecting to users.cs.northwestern.edu (users.cs.northwestern.edu)|165.124.180.20|:443... connected.\n",
            "WARNING: cannot verify users.cs.northwestern.edu's certificate, issued by ‘CN=InCommon RSA Server CA,OU=InCommon,O=Internet2,L=Ann Arbor,ST=MI,C=US’:\n",
            "  Unable to locally verify the issuer's authority.\n",
            "HTTP request sent, awaiting response... 200 OK\n",
            "Length: 22315341 (21M) [application/zip]\n",
            "Saving to: ‘NaturalImages.zip’\n",
            "\n",
            "NaturalImages.zip   100%[===================>]  21.28M  82.5MB/s    in 0.3s    \n",
            "\n",
            "2021-10-17 13:58:03 (82.5 MB/s) - ‘NaturalImages.zip’ saved [22315341/22315341]\n",
            "\n"
          ]
        }
      ]
    },
    {
      "cell_type": "code",
      "metadata": {
        "id": "0a7GDObqZYnj"
      },
      "source": [
        "!mkdir \"Dataset\"\n",
        "!unzip NaturalImages.zip -d \"/Dataset\"\n",
        "!unzip SpamImages.zip -d \"/Dataset\""
      ],
      "execution_count": null,
      "outputs": []
    },
    {
      "cell_type": "code",
      "metadata": {
        "id": "pGHxzhfC9Hcw"
      },
      "source": [
        "resultPath = '/Dataset'\n",
        "DATA_PATH = '/Dataset'\n",
        "# train_folder = os.listdir().remove(\"New_Spam\")"
      ],
      "execution_count": 4,
      "outputs": []
    },
    {
      "cell_type": "code",
      "metadata": {
        "colab": {
          "base_uri": "https://localhost:8080/"
        },
        "id": "4CEFGdqcmsqx",
        "outputId": "f3e9e1fb-b82d-4527-fe5e-e4c0f169a163"
      },
      "source": [
        "DATA_PATH = '/Dataset/'\n",
        "spamData=[]\n",
        "label=[]\n",
        "hashList=[]\n",
        "count=-1\n",
        "for folder in os.listdir(DATA_PATH):\n",
        "    if folder==\"New_Spam\":\n",
        "      continue;\n",
        "    print(\">>>Reading \",folder)\n",
        "    count+=1\n",
        "    \n",
        "    try:\n",
        "        for file in os.listdir(DATA_PATH+folder):\n",
        "            try:\n",
        "                if(str(file).endswith('.jpg') or str(file).endswith('.JPG') or str(file).endswith('.jpeg') or str(file).endswith('.JPEG')):\n",
        "                    img = image.imread(DATA_PATH+folder+'/'+file)\n",
        "                    hsh = hash(tuple(np.array(img).flatten()))\n",
        "                    if(hsh not in hashList):\n",
        "                        spamData.append(resize(img, (156, 156, 3)))\n",
        "                        hashList.append(hsh)\n",
        "                        label.append(count)\n",
        "            except:\n",
        "                pass\n",
        "    except:\n",
        "        pass\n"
      ],
      "execution_count": 5,
      "outputs": [
        {
          "output_type": "stream",
          "name": "stdout",
          "text": [
            ">>>Reading  SpamImages\n",
            ">>>Reading  NaturalImages\n"
          ]
        }
      ]
    },
    {
      "cell_type": "code",
      "metadata": {
        "colab": {
          "base_uri": "https://localhost:8080/"
        },
        "id": "EHSoNhbjfT_b",
        "outputId": "665064ad-4066-4a71-99c3-d9f5c078f71d"
      },
      "source": [
        "spamData=np.array(spamData)\n",
        "label=np.array(label)\n",
        "# print(label[label==1])\n",
        "print(\"Number of SPAM\",len(label[label==0]))\n",
        "print(\"Number of HAM\",len(label[label==1]))"
      ],
      "execution_count": 6,
      "outputs": [
        {
          "output_type": "stream",
          "name": "stdout",
          "text": [
            "Number of SPAM 897\n",
            "Number of HAM 810\n"
          ]
        }
      ]
    },
    {
      "cell_type": "code",
      "metadata": {
        "colab": {
          "base_uri": "https://localhost:8080/"
        },
        "id": "TbHVzhMYpfSR",
        "outputId": "371dbc36-7da5-4302-dea3-86bc17419375"
      },
      "source": [
        "print(\"Spam data shape : \",spamData.shape,\" Label shape : \",label.shape)"
      ],
      "execution_count": 7,
      "outputs": [
        {
          "output_type": "stream",
          "name": "stdout",
          "text": [
            "Spam data shape :  (1707, 156, 156, 3)  Label shape :  (1707,)\n"
          ]
        }
      ]
    },
    {
      "cell_type": "code",
      "metadata": {
        "id": "pPed_TbTpfUy"
      },
      "source": [
        "test_valid_Percentage = 0.3\n",
        "x_train,x_test,y_train,y_test = train_test_split(spamData,label,test_size = test_valid_Percentage,random_state=42, stratify=label,shuffle=True)"
      ],
      "execution_count": 8,
      "outputs": []
    },
    {
      "cell_type": "code",
      "metadata": {
        "colab": {
          "base_uri": "https://localhost:8080/"
        },
        "id": "yKCQLA9KpfXP",
        "outputId": "2af327c4-b630-4d9b-b25c-0a405960979a"
      },
      "source": [
        "print(\"x_train shape : \",x_train.shape,\" y_train shape : \",y_train.shape)\n",
        "print(\"x_test shape : \",x_test.shape,\" y_test shape : \",y_test.shape)"
      ],
      "execution_count": 9,
      "outputs": [
        {
          "output_type": "stream",
          "name": "stdout",
          "text": [
            "x_train shape :  (1194, 156, 156, 3)  y_train shape :  (1194,)\n",
            "x_test shape :  (513, 156, 156, 3)  y_test shape :  (513,)\n"
          ]
        }
      ]
    },
    {
      "cell_type": "code",
      "metadata": {
        "colab": {
          "base_uri": "https://localhost:8080/"
        },
        "id": "YTwLFvg1gFcU",
        "outputId": "66472420-0ee3-4e85-a847-13d8ea543f03"
      },
      "source": [
        "print(\"Number of train SPAM\",len(y_train[y_train==0]))\n",
        "print(\"Number of train HAM\",len(y_train[y_train==1]))\n",
        "\n",
        "print(\"Number of test SPAM\",len(y_test[y_test==0]))\n",
        "print(\"Number of test HAM\",len(y_test[y_test==1]))"
      ],
      "execution_count": 10,
      "outputs": [
        {
          "output_type": "stream",
          "name": "stdout",
          "text": [
            "Number of train SPAM 627\n",
            "Number of train HAM 567\n",
            "Number of test SPAM 270\n",
            "Number of test HAM 243\n"
          ]
        }
      ]
    },
    {
      "cell_type": "code",
      "metadata": {
        "colab": {
          "base_uri": "https://localhost:8080/"
        },
        "id": "H-IQht0NpfZv",
        "outputId": "a20aca69-77ed-4700-8f81-5455b816d636"
      },
      "source": [
        "y_train_oh = to_categorical(y_train)\n",
        "y_test_oh = to_categorical(y_test)\n",
        "\n",
        "print(\"y_train_oh shape : \",y_train_oh.shape,\" y_test_oh shape : \",y_test_oh.shape)"
      ],
      "execution_count": 11,
      "outputs": [
        {
          "output_type": "stream",
          "name": "stdout",
          "text": [
            "y_train_oh shape :  (1194, 2)  y_test_oh shape :  (513, 2)\n"
          ]
        }
      ]
    },
    {
      "cell_type": "code",
      "metadata": {
        "colab": {
          "base_uri": "https://localhost:8080/"
        },
        "id": "nTY9h-XlpfcV",
        "outputId": "49faebb5-443c-45a2-d8ea-605eae995a1e"
      },
      "source": [
        "NO_OF_EPOCHS=100\n",
        "BATCH_SIZE=32\n",
        "\n",
        "model=Sequential()\n",
        "model.add(Conv2D(32,kernel_size=3, padding='same',activation='relu',input_shape=(156, 156,3)))\n",
        "model.add(MaxPool2D(pool_size=(2, 2)))\n",
        "model.add(Conv2D(64,kernel_size=3, padding='same',activation='relu'))\n",
        "model.add(MaxPool2D(pool_size=(2, 2)))\n",
        "model.add(Conv2D(128,kernel_size=3, padding='same',activation='relu'))\n",
        "model.add(Dropout(0.1))\n",
        "model.add(Flatten())\n",
        "model.add(Dense(128,activation='relu'))\n",
        "model.add(Dropout(0.1))\n",
        "model.add(Dense(1,activation='sigmoid'))\n",
        "model.summary()\n",
        "model.compile(loss='binary_crossentropy', optimizer='adam',metrics=['accuracy'])"
      ],
      "execution_count": 12,
      "outputs": [
        {
          "output_type": "stream",
          "name": "stdout",
          "text": [
            "Model: \"sequential\"\n",
            "_________________________________________________________________\n",
            "Layer (type)                 Output Shape              Param #   \n",
            "=================================================================\n",
            "conv2d (Conv2D)              (None, 156, 156, 32)      896       \n",
            "_________________________________________________________________\n",
            "max_pooling2d (MaxPooling2D) (None, 78, 78, 32)        0         \n",
            "_________________________________________________________________\n",
            "conv2d_1 (Conv2D)            (None, 78, 78, 64)        18496     \n",
            "_________________________________________________________________\n",
            "max_pooling2d_1 (MaxPooling2 (None, 39, 39, 64)        0         \n",
            "_________________________________________________________________\n",
            "conv2d_2 (Conv2D)            (None, 39, 39, 128)       73856     \n",
            "_________________________________________________________________\n",
            "dropout (Dropout)            (None, 39, 39, 128)       0         \n",
            "_________________________________________________________________\n",
            "flatten (Flatten)            (None, 194688)            0         \n",
            "_________________________________________________________________\n",
            "dense (Dense)                (None, 128)               24920192  \n",
            "_________________________________________________________________\n",
            "dropout_1 (Dropout)          (None, 128)               0         \n",
            "_________________________________________________________________\n",
            "dense_1 (Dense)              (None, 1)                 129       \n",
            "=================================================================\n",
            "Total params: 25,013,569\n",
            "Trainable params: 25,013,569\n",
            "Non-trainable params: 0\n",
            "_________________________________________________________________\n"
          ]
        }
      ]
    },
    {
      "cell_type": "code",
      "metadata": {
        "colab": {
          "base_uri": "https://localhost:8080/"
        },
        "id": "1FaifFXAtiGd",
        "outputId": "9f8cf4f4-e5a5-4acb-98be-72f96b77c6c2"
      },
      "source": [
        "checkpointer = callbacks.ModelCheckpoint(filepath=resultPath+\"/checkpoint-{epoch:04d}.hdf5\", verbose=1, save_best_only=True, monitor='val_accuracy',mode='max')\n",
        "csv_logger = CSVLogger(resultPath+'/result_logger.csv',separator=',', append=False)\n",
        "reduce_lr = ReduceLROnPlateau(monitor='accuracy', factor=0.2, patience=2, min_lr=0.001)\n",
        "model.fit(x_train,y_train,epochs=NO_OF_EPOCHS,verbose=1,batch_size=BATCH_SIZE,validation_data=(x_test,y_test),callbacks=[checkpointer,csv_logger,reduce_lr])"
      ],
      "execution_count": 14,
      "outputs": [
        {
          "output_type": "stream",
          "name": "stdout",
          "text": [
            "Epoch 1/100\n",
            "38/38 [==============================] - 4s 94ms/step - loss: 1.0667 - accuracy: 0.8049 - val_loss: 0.2113 - val_accuracy: 0.9162\n",
            "WARNING:tensorflow:Can save best model only with val_acc available, skipping.\n",
            "Epoch 2/100\n",
            "38/38 [==============================] - 3s 74ms/step - loss: 0.1900 - accuracy: 0.9389 - val_loss: 0.1311 - val_accuracy: 0.9630\n",
            "WARNING:tensorflow:Can save best model only with val_acc available, skipping.\n",
            "Epoch 3/100\n",
            "38/38 [==============================] - 3s 74ms/step - loss: 0.2455 - accuracy: 0.9188 - val_loss: 0.1382 - val_accuracy: 0.9532\n",
            "WARNING:tensorflow:Can save best model only with val_acc available, skipping.\n",
            "Epoch 4/100\n",
            "38/38 [==============================] - 3s 74ms/step - loss: 0.1643 - accuracy: 0.9430 - val_loss: 0.1374 - val_accuracy: 0.9571\n",
            "WARNING:tensorflow:Can save best model only with val_acc available, skipping.\n",
            "Epoch 5/100\n",
            "38/38 [==============================] - 3s 74ms/step - loss: 0.0936 - accuracy: 0.9724 - val_loss: 0.0920 - val_accuracy: 0.9727\n",
            "WARNING:tensorflow:Can save best model only with val_acc available, skipping.\n",
            "Epoch 6/100\n",
            "38/38 [==============================] - 3s 74ms/step - loss: 0.0761 - accuracy: 0.9757 - val_loss: 0.1469 - val_accuracy: 0.9649\n",
            "WARNING:tensorflow:Can save best model only with val_acc available, skipping.\n",
            "Epoch 7/100\n",
            "38/38 [==============================] - 3s 75ms/step - loss: 0.0797 - accuracy: 0.9765 - val_loss: 0.0874 - val_accuracy: 0.9786\n",
            "WARNING:tensorflow:Can save best model only with val_acc available, skipping.\n",
            "Epoch 8/100\n",
            "38/38 [==============================] - 3s 74ms/step - loss: 0.0570 - accuracy: 0.9841 - val_loss: 0.0996 - val_accuracy: 0.9747\n",
            "WARNING:tensorflow:Can save best model only with val_acc available, skipping.\n",
            "Epoch 9/100\n",
            "38/38 [==============================] - 3s 74ms/step - loss: 0.0574 - accuracy: 0.9849 - val_loss: 0.0836 - val_accuracy: 0.9747\n",
            "WARNING:tensorflow:Can save best model only with val_acc available, skipping.\n",
            "Epoch 10/100\n",
            "38/38 [==============================] - 3s 75ms/step - loss: 0.0486 - accuracy: 0.9849 - val_loss: 0.0733 - val_accuracy: 0.9844\n",
            "WARNING:tensorflow:Can save best model only with val_acc available, skipping.\n",
            "Epoch 11/100\n",
            "38/38 [==============================] - 3s 74ms/step - loss: 0.0442 - accuracy: 0.9891 - val_loss: 0.0705 - val_accuracy: 0.9825\n",
            "WARNING:tensorflow:Can save best model only with val_acc available, skipping.\n",
            "Epoch 12/100\n",
            "38/38 [==============================] - 3s 74ms/step - loss: 0.0218 - accuracy: 0.9950 - val_loss: 0.0642 - val_accuracy: 0.9825\n",
            "WARNING:tensorflow:Can save best model only with val_acc available, skipping.\n",
            "Epoch 13/100\n",
            "38/38 [==============================] - 3s 75ms/step - loss: 0.0205 - accuracy: 0.9950 - val_loss: 0.1221 - val_accuracy: 0.9786\n",
            "WARNING:tensorflow:Can save best model only with val_acc available, skipping.\n",
            "Epoch 14/100\n",
            "38/38 [==============================] - 3s 74ms/step - loss: 0.0152 - accuracy: 0.9950 - val_loss: 0.0799 - val_accuracy: 0.9825\n",
            "WARNING:tensorflow:Can save best model only with val_acc available, skipping.\n",
            "Epoch 15/100\n",
            "38/38 [==============================] - 3s 74ms/step - loss: 0.0253 - accuracy: 0.9941 - val_loss: 0.0812 - val_accuracy: 0.9747\n",
            "WARNING:tensorflow:Can save best model only with val_acc available, skipping.\n",
            "Epoch 16/100\n",
            "38/38 [==============================] - 3s 75ms/step - loss: 0.0419 - accuracy: 0.9874 - val_loss: 0.1085 - val_accuracy: 0.9708\n",
            "WARNING:tensorflow:Can save best model only with val_acc available, skipping.\n",
            "Epoch 17/100\n",
            "38/38 [==============================] - 3s 74ms/step - loss: 0.0285 - accuracy: 0.9908 - val_loss: 0.0483 - val_accuracy: 0.9825\n",
            "WARNING:tensorflow:Can save best model only with val_acc available, skipping.\n",
            "Epoch 18/100\n",
            "38/38 [==============================] - 3s 75ms/step - loss: 0.0193 - accuracy: 0.9950 - val_loss: 0.0805 - val_accuracy: 0.9786\n",
            "WARNING:tensorflow:Can save best model only with val_acc available, skipping.\n",
            "Epoch 19/100\n",
            "38/38 [==============================] - 3s 74ms/step - loss: 0.0391 - accuracy: 0.9841 - val_loss: 0.0615 - val_accuracy: 0.9825\n",
            "WARNING:tensorflow:Can save best model only with val_acc available, skipping.\n",
            "Epoch 20/100\n",
            "38/38 [==============================] - 3s 74ms/step - loss: 0.0121 - accuracy: 0.9958 - val_loss: 0.0749 - val_accuracy: 0.9825\n",
            "WARNING:tensorflow:Can save best model only with val_acc available, skipping.\n",
            "Epoch 21/100\n",
            "38/38 [==============================] - 3s 75ms/step - loss: 0.0030 - accuracy: 0.9992 - val_loss: 0.1076 - val_accuracy: 0.9883\n",
            "WARNING:tensorflow:Can save best model only with val_acc available, skipping.\n",
            "Epoch 22/100\n",
            "38/38 [==============================] - 3s 75ms/step - loss: 0.0039 - accuracy: 0.9975 - val_loss: 0.1089 - val_accuracy: 0.9844\n",
            "WARNING:tensorflow:Can save best model only with val_acc available, skipping.\n",
            "Epoch 23/100\n",
            "38/38 [==============================] - 3s 73ms/step - loss: 0.0412 - accuracy: 0.9874 - val_loss: 0.0997 - val_accuracy: 0.9766\n",
            "WARNING:tensorflow:Can save best model only with val_acc available, skipping.\n",
            "Epoch 24/100\n",
            "38/38 [==============================] - 3s 74ms/step - loss: 0.0331 - accuracy: 0.9916 - val_loss: 0.1419 - val_accuracy: 0.9727\n",
            "WARNING:tensorflow:Can save best model only with val_acc available, skipping.\n",
            "Epoch 25/100\n",
            "38/38 [==============================] - 3s 75ms/step - loss: 0.0308 - accuracy: 0.9916 - val_loss: 0.1149 - val_accuracy: 0.9708\n",
            "WARNING:tensorflow:Can save best model only with val_acc available, skipping.\n",
            "Epoch 26/100\n",
            "38/38 [==============================] - 3s 74ms/step - loss: 0.0122 - accuracy: 0.9958 - val_loss: 0.1337 - val_accuracy: 0.9766\n",
            "WARNING:tensorflow:Can save best model only with val_acc available, skipping.\n",
            "Epoch 27/100\n",
            "38/38 [==============================] - 3s 75ms/step - loss: 0.0043 - accuracy: 0.9992 - val_loss: 0.1210 - val_accuracy: 0.9825\n",
            "WARNING:tensorflow:Can save best model only with val_acc available, skipping.\n",
            "Epoch 28/100\n",
            "38/38 [==============================] - 3s 74ms/step - loss: 0.0053 - accuracy: 0.9975 - val_loss: 0.1414 - val_accuracy: 0.9825\n",
            "WARNING:tensorflow:Can save best model only with val_acc available, skipping.\n",
            "Epoch 29/100\n",
            "38/38 [==============================] - 3s 75ms/step - loss: 0.0091 - accuracy: 0.9958 - val_loss: 0.0888 - val_accuracy: 0.9864\n",
            "WARNING:tensorflow:Can save best model only with val_acc available, skipping.\n",
            "Epoch 30/100\n",
            "38/38 [==============================] - 3s 75ms/step - loss: 0.0064 - accuracy: 0.9966 - val_loss: 0.1008 - val_accuracy: 0.9903\n",
            "WARNING:tensorflow:Can save best model only with val_acc available, skipping.\n",
            "Epoch 31/100\n",
            "38/38 [==============================] - 3s 75ms/step - loss: 0.0018 - accuracy: 0.9992 - val_loss: 0.1041 - val_accuracy: 0.9903\n",
            "WARNING:tensorflow:Can save best model only with val_acc available, skipping.\n",
            "Epoch 32/100\n",
            "38/38 [==============================] - 3s 75ms/step - loss: 0.0028 - accuracy: 0.9983 - val_loss: 0.1028 - val_accuracy: 0.9864\n",
            "WARNING:tensorflow:Can save best model only with val_acc available, skipping.\n",
            "Epoch 33/100\n",
            "38/38 [==============================] - 3s 74ms/step - loss: 0.0050 - accuracy: 0.9992 - val_loss: 0.0923 - val_accuracy: 0.9864\n",
            "WARNING:tensorflow:Can save best model only with val_acc available, skipping.\n",
            "Epoch 34/100\n",
            "38/38 [==============================] - 3s 74ms/step - loss: 0.0014 - accuracy: 1.0000 - val_loss: 0.0961 - val_accuracy: 0.9903\n",
            "WARNING:tensorflow:Can save best model only with val_acc available, skipping.\n",
            "Epoch 35/100\n",
            "38/38 [==============================] - 3s 75ms/step - loss: 0.0011 - accuracy: 1.0000 - val_loss: 0.1071 - val_accuracy: 0.9825\n",
            "WARNING:tensorflow:Can save best model only with val_acc available, skipping.\n",
            "Epoch 36/100\n",
            "38/38 [==============================] - 3s 75ms/step - loss: 4.7594e-04 - accuracy: 1.0000 - val_loss: 0.1105 - val_accuracy: 0.9825\n",
            "WARNING:tensorflow:Can save best model only with val_acc available, skipping.\n",
            "Epoch 37/100\n",
            "38/38 [==============================] - 3s 74ms/step - loss: 2.8582e-04 - accuracy: 1.0000 - val_loss: 0.1141 - val_accuracy: 0.9805\n",
            "WARNING:tensorflow:Can save best model only with val_acc available, skipping.\n",
            "Epoch 38/100\n",
            "38/38 [==============================] - 3s 75ms/step - loss: 2.4303e-04 - accuracy: 1.0000 - val_loss: 0.1147 - val_accuracy: 0.9864\n",
            "WARNING:tensorflow:Can save best model only with val_acc available, skipping.\n",
            "Epoch 39/100\n",
            "38/38 [==============================] - 3s 75ms/step - loss: 1.7786e-04 - accuracy: 1.0000 - val_loss: 0.1157 - val_accuracy: 0.9864\n",
            "WARNING:tensorflow:Can save best model only with val_acc available, skipping.\n",
            "Epoch 40/100\n",
            "38/38 [==============================] - 3s 75ms/step - loss: 1.9841e-04 - accuracy: 1.0000 - val_loss: 0.1185 - val_accuracy: 0.9864\n",
            "WARNING:tensorflow:Can save best model only with val_acc available, skipping.\n",
            "Epoch 41/100\n",
            "38/38 [==============================] - 3s 75ms/step - loss: 1.0654e-04 - accuracy: 1.0000 - val_loss: 0.1206 - val_accuracy: 0.9844\n",
            "WARNING:tensorflow:Can save best model only with val_acc available, skipping.\n",
            "Epoch 42/100\n",
            "38/38 [==============================] - 3s 75ms/step - loss: 1.3087e-04 - accuracy: 1.0000 - val_loss: 0.1230 - val_accuracy: 0.9864\n",
            "WARNING:tensorflow:Can save best model only with val_acc available, skipping.\n",
            "Epoch 43/100\n",
            "38/38 [==============================] - 3s 74ms/step - loss: 1.9950e-04 - accuracy: 1.0000 - val_loss: 0.1227 - val_accuracy: 0.9883\n",
            "WARNING:tensorflow:Can save best model only with val_acc available, skipping.\n",
            "Epoch 44/100\n",
            "38/38 [==============================] - 3s 74ms/step - loss: 1.1796e-04 - accuracy: 1.0000 - val_loss: 0.1262 - val_accuracy: 0.9864\n",
            "WARNING:tensorflow:Can save best model only with val_acc available, skipping.\n",
            "Epoch 45/100\n",
            "38/38 [==============================] - 3s 75ms/step - loss: 9.3225e-05 - accuracy: 1.0000 - val_loss: 0.1258 - val_accuracy: 0.9883\n",
            "WARNING:tensorflow:Can save best model only with val_acc available, skipping.\n",
            "Epoch 46/100\n",
            "38/38 [==============================] - 3s 75ms/step - loss: 5.6866e-05 - accuracy: 1.0000 - val_loss: 0.1270 - val_accuracy: 0.9883\n",
            "WARNING:tensorflow:Can save best model only with val_acc available, skipping.\n",
            "Epoch 47/100\n",
            "38/38 [==============================] - 3s 74ms/step - loss: 5.9830e-05 - accuracy: 1.0000 - val_loss: 0.1286 - val_accuracy: 0.9883\n",
            "WARNING:tensorflow:Can save best model only with val_acc available, skipping.\n",
            "Epoch 48/100\n",
            "38/38 [==============================] - 3s 74ms/step - loss: 9.4039e-05 - accuracy: 1.0000 - val_loss: 0.1311 - val_accuracy: 0.9864\n",
            "WARNING:tensorflow:Can save best model only with val_acc available, skipping.\n",
            "Epoch 49/100\n",
            "38/38 [==============================] - 3s 75ms/step - loss: 5.8327e-05 - accuracy: 1.0000 - val_loss: 0.1328 - val_accuracy: 0.9864\n",
            "WARNING:tensorflow:Can save best model only with val_acc available, skipping.\n",
            "Epoch 50/100\n",
            "38/38 [==============================] - 3s 75ms/step - loss: 5.5605e-05 - accuracy: 1.0000 - val_loss: 0.1356 - val_accuracy: 0.9864\n",
            "WARNING:tensorflow:Can save best model only with val_acc available, skipping.\n",
            "Epoch 51/100\n",
            "38/38 [==============================] - 3s 74ms/step - loss: 1.0695e-04 - accuracy: 1.0000 - val_loss: 0.1349 - val_accuracy: 0.9864\n",
            "WARNING:tensorflow:Can save best model only with val_acc available, skipping.\n",
            "Epoch 52/100\n",
            "38/38 [==============================] - 3s 74ms/step - loss: 8.8245e-05 - accuracy: 1.0000 - val_loss: 0.1369 - val_accuracy: 0.9844\n",
            "WARNING:tensorflow:Can save best model only with val_acc available, skipping.\n",
            "Epoch 53/100\n",
            "38/38 [==============================] - 3s 75ms/step - loss: 5.2321e-05 - accuracy: 1.0000 - val_loss: 0.1361 - val_accuracy: 0.9864\n",
            "WARNING:tensorflow:Can save best model only with val_acc available, skipping.\n",
            "Epoch 54/100\n",
            "38/38 [==============================] - 3s 74ms/step - loss: 3.9366e-05 - accuracy: 1.0000 - val_loss: 0.1373 - val_accuracy: 0.9864\n",
            "WARNING:tensorflow:Can save best model only with val_acc available, skipping.\n",
            "Epoch 55/100\n",
            "38/38 [==============================] - 3s 75ms/step - loss: 6.0708e-05 - accuracy: 1.0000 - val_loss: 0.1386 - val_accuracy: 0.9864\n",
            "WARNING:tensorflow:Can save best model only with val_acc available, skipping.\n",
            "Epoch 56/100\n",
            "38/38 [==============================] - 3s 74ms/step - loss: 4.9301e-05 - accuracy: 1.0000 - val_loss: 0.1403 - val_accuracy: 0.9864\n",
            "WARNING:tensorflow:Can save best model only with val_acc available, skipping.\n",
            "Epoch 57/100\n",
            "38/38 [==============================] - 3s 75ms/step - loss: 2.6097e-05 - accuracy: 1.0000 - val_loss: 0.1402 - val_accuracy: 0.9864\n",
            "WARNING:tensorflow:Can save best model only with val_acc available, skipping.\n",
            "Epoch 58/100\n",
            "38/38 [==============================] - 3s 75ms/step - loss: 3.6892e-05 - accuracy: 1.0000 - val_loss: 0.1405 - val_accuracy: 0.9864\n",
            "WARNING:tensorflow:Can save best model only with val_acc available, skipping.\n",
            "Epoch 59/100\n",
            "38/38 [==============================] - 3s 76ms/step - loss: 3.3458e-05 - accuracy: 1.0000 - val_loss: 0.1404 - val_accuracy: 0.9883\n",
            "WARNING:tensorflow:Can save best model only with val_acc available, skipping.\n",
            "Epoch 60/100\n",
            "38/38 [==============================] - 3s 74ms/step - loss: 3.5740e-05 - accuracy: 1.0000 - val_loss: 0.1419 - val_accuracy: 0.9864\n",
            "WARNING:tensorflow:Can save best model only with val_acc available, skipping.\n",
            "Epoch 61/100\n",
            "38/38 [==============================] - 3s 74ms/step - loss: 5.2004e-04 - accuracy: 1.0000 - val_loss: 0.1503 - val_accuracy: 0.9864\n",
            "WARNING:tensorflow:Can save best model only with val_acc available, skipping.\n",
            "Epoch 62/100\n",
            "38/38 [==============================] - 3s 74ms/step - loss: 7.6633e-05 - accuracy: 1.0000 - val_loss: 0.1591 - val_accuracy: 0.9825\n",
            "WARNING:tensorflow:Can save best model only with val_acc available, skipping.\n",
            "Epoch 63/100\n",
            "38/38 [==============================] - 3s 75ms/step - loss: 3.1986e-05 - accuracy: 1.0000 - val_loss: 0.1557 - val_accuracy: 0.9844\n",
            "WARNING:tensorflow:Can save best model only with val_acc available, skipping.\n",
            "Epoch 64/100\n",
            "38/38 [==============================] - 3s 74ms/step - loss: 2.5120e-05 - accuracy: 1.0000 - val_loss: 0.1560 - val_accuracy: 0.9844\n",
            "WARNING:tensorflow:Can save best model only with val_acc available, skipping.\n",
            "Epoch 65/100\n",
            "38/38 [==============================] - 3s 75ms/step - loss: 1.9029e-05 - accuracy: 1.0000 - val_loss: 0.1586 - val_accuracy: 0.9844\n",
            "WARNING:tensorflow:Can save best model only with val_acc available, skipping.\n",
            "Epoch 66/100\n",
            "38/38 [==============================] - 3s 74ms/step - loss: 3.2276e-05 - accuracy: 1.0000 - val_loss: 0.1579 - val_accuracy: 0.9844\n",
            "WARNING:tensorflow:Can save best model only with val_acc available, skipping.\n",
            "Epoch 67/100\n",
            "38/38 [==============================] - 3s 74ms/step - loss: 1.2603e-05 - accuracy: 1.0000 - val_loss: 0.1585 - val_accuracy: 0.9844\n",
            "WARNING:tensorflow:Can save best model only with val_acc available, skipping.\n",
            "Epoch 68/100\n",
            "38/38 [==============================] - 3s 74ms/step - loss: 2.6468e-05 - accuracy: 1.0000 - val_loss: 0.1625 - val_accuracy: 0.9825\n",
            "WARNING:tensorflow:Can save best model only with val_acc available, skipping.\n",
            "Epoch 69/100\n",
            "38/38 [==============================] - 3s 74ms/step - loss: 1.0057e-04 - accuracy: 1.0000 - val_loss: 0.1644 - val_accuracy: 0.9844\n",
            "WARNING:tensorflow:Can save best model only with val_acc available, skipping.\n",
            "Epoch 70/100\n",
            "38/38 [==============================] - 3s 75ms/step - loss: 0.7087 - accuracy: 0.8987 - val_loss: 0.4192 - val_accuracy: 0.9357\n",
            "WARNING:tensorflow:Can save best model only with val_acc available, skipping.\n",
            "Epoch 71/100\n",
            "38/38 [==============================] - 3s 74ms/step - loss: 0.5420 - accuracy: 0.8476 - val_loss: 0.4810 - val_accuracy: 0.8538\n",
            "WARNING:tensorflow:Can save best model only with val_acc available, skipping.\n",
            "Epoch 72/100\n",
            "38/38 [==============================] - 3s 74ms/step - loss: 0.3590 - accuracy: 0.8827 - val_loss: 0.1805 - val_accuracy: 0.9474\n",
            "WARNING:tensorflow:Can save best model only with val_acc available, skipping.\n",
            "Epoch 73/100\n",
            "38/38 [==============================] - 3s 74ms/step - loss: 0.1982 - accuracy: 0.9112 - val_loss: 0.1795 - val_accuracy: 0.9415\n",
            "WARNING:tensorflow:Can save best model only with val_acc available, skipping.\n",
            "Epoch 74/100\n",
            "38/38 [==============================] - 3s 75ms/step - loss: 0.1578 - accuracy: 0.9121 - val_loss: 0.1362 - val_accuracy: 0.9571\n",
            "WARNING:tensorflow:Can save best model only with val_acc available, skipping.\n",
            "Epoch 75/100\n",
            "38/38 [==============================] - 3s 74ms/step - loss: 0.1266 - accuracy: 0.9255 - val_loss: 0.1053 - val_accuracy: 0.9727\n",
            "WARNING:tensorflow:Can save best model only with val_acc available, skipping.\n",
            "Epoch 76/100\n",
            "38/38 [==============================] - 3s 75ms/step - loss: 0.1091 - accuracy: 0.9204 - val_loss: 0.0996 - val_accuracy: 0.9708\n",
            "WARNING:tensorflow:Can save best model only with val_acc available, skipping.\n",
            "Epoch 77/100\n",
            "38/38 [==============================] - 3s 75ms/step - loss: 0.0907 - accuracy: 0.9497 - val_loss: 0.1198 - val_accuracy: 0.9708\n",
            "WARNING:tensorflow:Can save best model only with val_acc available, skipping.\n",
            "Epoch 78/100\n",
            "38/38 [==============================] - 3s 75ms/step - loss: 0.0626 - accuracy: 0.9774 - val_loss: 0.1204 - val_accuracy: 0.9727\n",
            "WARNING:tensorflow:Can save best model only with val_acc available, skipping.\n",
            "Epoch 79/100\n",
            "38/38 [==============================] - 3s 76ms/step - loss: 0.1120 - accuracy: 0.9682 - val_loss: 0.1197 - val_accuracy: 0.9630\n",
            "WARNING:tensorflow:Can save best model only with val_acc available, skipping.\n",
            "Epoch 80/100\n",
            "38/38 [==============================] - 3s 75ms/step - loss: 0.0661 - accuracy: 0.9816 - val_loss: 0.1258 - val_accuracy: 0.9669\n",
            "WARNING:tensorflow:Can save best model only with val_acc available, skipping.\n",
            "Epoch 81/100\n",
            "38/38 [==============================] - 3s 76ms/step - loss: 0.0572 - accuracy: 0.9866 - val_loss: 0.1004 - val_accuracy: 0.9688\n",
            "WARNING:tensorflow:Can save best model only with val_acc available, skipping.\n",
            "Epoch 82/100\n",
            "38/38 [==============================] - 3s 75ms/step - loss: 0.0448 - accuracy: 0.9874 - val_loss: 0.0953 - val_accuracy: 0.9805\n",
            "WARNING:tensorflow:Can save best model only with val_acc available, skipping.\n",
            "Epoch 83/100\n",
            "38/38 [==============================] - 3s 74ms/step - loss: 0.0421 - accuracy: 0.9866 - val_loss: 0.1226 - val_accuracy: 0.9688\n",
            "WARNING:tensorflow:Can save best model only with val_acc available, skipping.\n",
            "Epoch 84/100\n",
            "38/38 [==============================] - 3s 74ms/step - loss: 0.0438 - accuracy: 0.9874 - val_loss: 0.1126 - val_accuracy: 0.9708\n",
            "WARNING:tensorflow:Can save best model only with val_acc available, skipping.\n",
            "Epoch 85/100\n",
            "38/38 [==============================] - 3s 74ms/step - loss: 0.0446 - accuracy: 0.9874 - val_loss: 0.1220 - val_accuracy: 0.9805\n",
            "WARNING:tensorflow:Can save best model only with val_acc available, skipping.\n",
            "Epoch 86/100\n",
            "38/38 [==============================] - 3s 75ms/step - loss: 0.0357 - accuracy: 0.9883 - val_loss: 0.0948 - val_accuracy: 0.9786\n",
            "WARNING:tensorflow:Can save best model only with val_acc available, skipping.\n",
            "Epoch 87/100\n",
            "38/38 [==============================] - 3s 75ms/step - loss: 0.0253 - accuracy: 0.9925 - val_loss: 0.0874 - val_accuracy: 0.9766\n",
            "WARNING:tensorflow:Can save best model only with val_acc available, skipping.\n",
            "Epoch 88/100\n",
            "38/38 [==============================] - 3s 75ms/step - loss: 0.0258 - accuracy: 0.9925 - val_loss: 0.0840 - val_accuracy: 0.9747\n",
            "WARNING:tensorflow:Can save best model only with val_acc available, skipping.\n",
            "Epoch 89/100\n",
            "38/38 [==============================] - 3s 75ms/step - loss: 0.0223 - accuracy: 0.9925 - val_loss: 0.0751 - val_accuracy: 0.9883\n",
            "WARNING:tensorflow:Can save best model only with val_acc available, skipping.\n",
            "Epoch 90/100\n",
            "38/38 [==============================] - 3s 74ms/step - loss: 0.0518 - accuracy: 0.9849 - val_loss: 0.0915 - val_accuracy: 0.9747\n",
            "WARNING:tensorflow:Can save best model only with val_acc available, skipping.\n",
            "Epoch 91/100\n",
            "38/38 [==============================] - 3s 74ms/step - loss: 0.0259 - accuracy: 0.9916 - val_loss: 0.1097 - val_accuracy: 0.9766\n",
            "WARNING:tensorflow:Can save best model only with val_acc available, skipping.\n",
            "Epoch 92/100\n",
            "38/38 [==============================] - 3s 74ms/step - loss: 0.0161 - accuracy: 0.9958 - val_loss: 0.1085 - val_accuracy: 0.9786\n",
            "WARNING:tensorflow:Can save best model only with val_acc available, skipping.\n",
            "Epoch 93/100\n",
            "38/38 [==============================] - 3s 76ms/step - loss: 0.0129 - accuracy: 0.9958 - val_loss: 0.1167 - val_accuracy: 0.9844\n",
            "WARNING:tensorflow:Can save best model only with val_acc available, skipping.\n",
            "Epoch 94/100\n",
            "38/38 [==============================] - 3s 76ms/step - loss: 0.0408 - accuracy: 0.9908 - val_loss: 0.1550 - val_accuracy: 0.9747\n",
            "WARNING:tensorflow:Can save best model only with val_acc available, skipping.\n",
            "Epoch 95/100\n",
            "38/38 [==============================] - 3s 75ms/step - loss: 0.0431 - accuracy: 0.9874 - val_loss: 0.2821 - val_accuracy: 0.9649\n",
            "WARNING:tensorflow:Can save best model only with val_acc available, skipping.\n",
            "Epoch 96/100\n",
            "38/38 [==============================] - 3s 74ms/step - loss: 0.0878 - accuracy: 0.9724 - val_loss: 0.1554 - val_accuracy: 0.9610\n",
            "WARNING:tensorflow:Can save best model only with val_acc available, skipping.\n",
            "Epoch 97/100\n",
            "38/38 [==============================] - 3s 74ms/step - loss: 0.0444 - accuracy: 0.9866 - val_loss: 0.1503 - val_accuracy: 0.9649\n",
            "WARNING:tensorflow:Can save best model only with val_acc available, skipping.\n",
            "Epoch 98/100\n",
            "38/38 [==============================] - 3s 75ms/step - loss: 0.0325 - accuracy: 0.9925 - val_loss: 0.1150 - val_accuracy: 0.9747\n",
            "WARNING:tensorflow:Can save best model only with val_acc available, skipping.\n",
            "Epoch 99/100\n",
            "38/38 [==============================] - 3s 76ms/step - loss: 0.0292 - accuracy: 0.9925 - val_loss: 0.1222 - val_accuracy: 0.9786\n",
            "WARNING:tensorflow:Can save best model only with val_acc available, skipping.\n",
            "Epoch 100/100\n",
            "38/38 [==============================] - 3s 75ms/step - loss: 0.0119 - accuracy: 0.9958 - val_loss: 0.1282 - val_accuracy: 0.9805\n",
            "WARNING:tensorflow:Can save best model only with val_acc available, skipping.\n"
          ]
        },
        {
          "output_type": "execute_result",
          "data": {
            "text/plain": [
              "<keras.callbacks.History at 0x7f2babb2dc10>"
            ]
          },
          "metadata": {},
          "execution_count": 14
        }
      ]
    },
    {
      "cell_type": "code",
      "metadata": {
        "id": "oXjmkeNztijd"
      },
      "source": [
        "  model.load_weights(resultPath+\"/checkpoint-0099.hdf5\")"
      ],
      "execution_count": null,
      "outputs": []
    },
    {
      "cell_type": "code",
      "metadata": {
        "colab": {
          "base_uri": "https://localhost:8080/"
        },
        "id": "EvadX63Gtkml",
        "outputId": "b6e49d41-87e5-4a95-d677-ac987a5f629c"
      },
      "source": [
        "prediction_prob1 = model.predict(x_test,verbose=1)\n",
        "y_pred=np.round(prediction_prob1)"
      ],
      "execution_count": 20,
      "outputs": [
        {
          "output_type": "stream",
          "name": "stdout",
          "text": [
            "17/17 [==============================] - 0s 19ms/step\n"
          ]
        }
      ]
    },
    {
      "cell_type": "code",
      "metadata": {
        "colab": {
          "base_uri": "https://localhost:8080/"
        },
        "id": "D1wc57zEtl0O",
        "outputId": "35ccb592-c56b-4e21-9f7c-57927976afc5"
      },
      "source": [
        "print(accuracy_score(y_test,y_pred))\n",
        "print(precision_score(y_test,y_pred,average='binary'))\n",
        "print(recall_score(y_test,y_pred,average='binary'))\n",
        "print(f1_score(y_test,y_pred,average='binary'))\n",
        "print(confusion_matrix(y_test,y_pred))\n",
        "print(classification_report(y_test,y_pred))"
      ],
      "execution_count": 21,
      "outputs": [
        {
          "output_type": "stream",
          "name": "stdout",
          "text": [
            "0.9805068226120858\n",
            "0.9915611814345991\n",
            "0.9670781893004116\n",
            "0.9791666666666667\n",
            "[[268   2]\n",
            " [  8 235]]\n",
            "              precision    recall  f1-score   support\n",
            "\n",
            "           0       0.97      0.99      0.98       270\n",
            "           1       0.99      0.97      0.98       243\n",
            "\n",
            "    accuracy                           0.98       513\n",
            "   macro avg       0.98      0.98      0.98       513\n",
            "weighted avg       0.98      0.98      0.98       513\n",
            "\n"
          ]
        }
      ]
    },
    {
      "cell_type": "code",
      "metadata": {
        "colab": {
          "base_uri": "https://localhost:8080/"
        },
        "id": "wtYscnD7t5bs",
        "outputId": "049edd18-f04a-4117-c587-ce0c569fd26d"
      },
      "source": [
        "class_weights = class_weight.compute_class_weight('balanced',\n",
        "                                                 np.unique(y_train),\n",
        "                                                 y_train)\n",
        "print(class_weights)"
      ],
      "execution_count": 22,
      "outputs": [
        {
          "output_type": "stream",
          "name": "stdout",
          "text": [
            "[0.95215311 1.05291005]\n"
          ]
        }
      ]
    },
    {
      "cell_type": "code",
      "metadata": {
        "colab": {
          "base_uri": "https://localhost:8080/"
        },
        "id": "buYFGuIP-kyf",
        "outputId": "ce600f53-013a-45ce-89e0-f5030152638d"
      },
      "source": [
        "model1=Sequential()\n",
        "model1.add(Conv2D(32,kernel_size=3, padding='same',activation='relu',input_shape=(156, 156,3)))\n",
        "model1.add(MaxPool2D(pool_size=(2, 2)))\n",
        "model1.add(Conv2D(64,kernel_size=3, padding='same',activation='relu'))\n",
        "model1.add(MaxPool2D(pool_size=(2, 2)))\n",
        "model1.add(Conv2D(128,kernel_size=3, padding='same',activation='relu'))\n",
        "model1.add(Dropout(0.1))\n",
        "model1.add(Flatten())\n",
        "model1.add(Dense(128,activation='relu'))\n",
        "model1.add(Dropout(0.1))\n",
        "model1.add(Dense(1,activation='sigmoid'))\n",
        "model1.summary()\n",
        "model1.compile(loss='binary_crossentropy', optimizer='adam',metrics=['accuracy'])"
      ],
      "execution_count": 23,
      "outputs": [
        {
          "output_type": "stream",
          "name": "stdout",
          "text": [
            "Model: \"sequential_1\"\n",
            "_________________________________________________________________\n",
            "Layer (type)                 Output Shape              Param #   \n",
            "=================================================================\n",
            "conv2d_3 (Conv2D)            (None, 156, 156, 32)      896       \n",
            "_________________________________________________________________\n",
            "max_pooling2d_2 (MaxPooling2 (None, 78, 78, 32)        0         \n",
            "_________________________________________________________________\n",
            "conv2d_4 (Conv2D)            (None, 78, 78, 64)        18496     \n",
            "_________________________________________________________________\n",
            "max_pooling2d_3 (MaxPooling2 (None, 39, 39, 64)        0         \n",
            "_________________________________________________________________\n",
            "conv2d_5 (Conv2D)            (None, 39, 39, 128)       73856     \n",
            "_________________________________________________________________\n",
            "dropout_2 (Dropout)          (None, 39, 39, 128)       0         \n",
            "_________________________________________________________________\n",
            "flatten_1 (Flatten)          (None, 194688)            0         \n",
            "_________________________________________________________________\n",
            "dense_2 (Dense)              (None, 128)               24920192  \n",
            "_________________________________________________________________\n",
            "dropout_3 (Dropout)          (None, 128)               0         \n",
            "_________________________________________________________________\n",
            "dense_3 (Dense)              (None, 1)                 129       \n",
            "=================================================================\n",
            "Total params: 25,013,569\n",
            "Trainable params: 25,013,569\n",
            "Non-trainable params: 0\n",
            "_________________________________________________________________\n"
          ]
        }
      ]
    },
    {
      "cell_type": "code",
      "metadata": {
        "id": "SnaVWptOnNk6"
      },
      "source": [
        "weight = {i : class_weights[i] for i in range(2)}"
      ],
      "execution_count": 26,
      "outputs": []
    },
    {
      "cell_type": "code",
      "metadata": {
        "colab": {
          "base_uri": "https://localhost:8080/"
        },
        "id": "1tzYvf96-3BJ",
        "outputId": "0fd73037-1cf9-4a7c-bb09-0d7541514380"
      },
      "source": [
        "checkpointer = callbacks.ModelCheckpoint(filepath=resultPath+\"/csl/checkpoint-{epoch:04d}.hdf5\", verbose=1, save_best_only=True, monitor='val_accuracy',mode='max')\n",
        "csv_logger = CSVLogger(resultPath+'/csl/result_logger.csv',separator=',', append=False)\n",
        "reduce_lr = ReduceLROnPlateau(monitor='accuracy', factor=0.2, patience=2, min_lr=0.001)\n",
        "model1.fit(x_train,y_train,epochs=NO_OF_EPOCHS,verbose=1,batch_size=BATCH_SIZE,class_weight=weight,validation_data=(x_test,y_test),callbacks=[checkpointer,csv_logger,reduce_lr])"
      ],
      "execution_count": 27,
      "outputs": [
        {
          "output_type": "stream",
          "name": "stdout",
          "text": [
            "Epoch 1/100\n",
            "38/38 [==============================] - 4s 85ms/step - loss: 1.2913 - accuracy: 0.7797 - val_loss: 0.2656 - val_accuracy: 0.9123\n",
            "\n",
            "Epoch 00001: val_accuracy improved from -inf to 0.91228, saving model to /Dataset/csl/checkpoint-0001.hdf5\n",
            "Epoch 2/100\n",
            "38/38 [==============================] - 3s 75ms/step - loss: 0.2586 - accuracy: 0.9028 - val_loss: 0.1399 - val_accuracy: 0.9493\n",
            "\n",
            "Epoch 00002: val_accuracy improved from 0.91228 to 0.94932, saving model to /Dataset/csl/checkpoint-0002.hdf5\n",
            "Epoch 3/100\n",
            "38/38 [==============================] - 3s 75ms/step - loss: 0.1896 - accuracy: 0.9472 - val_loss: 0.1747 - val_accuracy: 0.9454\n",
            "\n",
            "Epoch 00003: val_accuracy did not improve from 0.94932\n",
            "Epoch 4/100\n",
            "38/38 [==============================] - 3s 75ms/step - loss: 0.1070 - accuracy: 0.9648 - val_loss: 0.0798 - val_accuracy: 0.9766\n",
            "\n",
            "Epoch 00004: val_accuracy improved from 0.94932 to 0.97661, saving model to /Dataset/csl/checkpoint-0004.hdf5\n",
            "Epoch 5/100\n",
            "38/38 [==============================] - 3s 75ms/step - loss: 0.0751 - accuracy: 0.9791 - val_loss: 0.0942 - val_accuracy: 0.9747\n",
            "\n",
            "Epoch 00005: val_accuracy did not improve from 0.97661\n",
            "Epoch 6/100\n",
            "38/38 [==============================] - 3s 75ms/step - loss: 0.0542 - accuracy: 0.9799 - val_loss: 0.0854 - val_accuracy: 0.9786\n",
            "\n",
            "Epoch 00006: val_accuracy improved from 0.97661 to 0.97856, saving model to /Dataset/csl/checkpoint-0006.hdf5\n",
            "Epoch 7/100\n",
            "38/38 [==============================] - 3s 75ms/step - loss: 0.0377 - accuracy: 0.9899 - val_loss: 0.1358 - val_accuracy: 0.9649\n",
            "\n",
            "Epoch 00007: val_accuracy did not improve from 0.97856\n",
            "Epoch 8/100\n",
            "38/38 [==============================] - 3s 75ms/step - loss: 0.0341 - accuracy: 0.9908 - val_loss: 0.1043 - val_accuracy: 0.9708\n",
            "\n",
            "Epoch 00008: val_accuracy did not improve from 0.97856\n",
            "Epoch 9/100\n",
            "38/38 [==============================] - 3s 75ms/step - loss: 0.0254 - accuracy: 0.9925 - val_loss: 0.1397 - val_accuracy: 0.9649\n",
            "\n",
            "Epoch 00009: val_accuracy did not improve from 0.97856\n",
            "Epoch 10/100\n",
            "38/38 [==============================] - 3s 75ms/step - loss: 0.0254 - accuracy: 0.9933 - val_loss: 0.1380 - val_accuracy: 0.9708\n",
            "\n",
            "Epoch 00010: val_accuracy did not improve from 0.97856\n",
            "Epoch 11/100\n",
            "38/38 [==============================] - 3s 75ms/step - loss: 0.0199 - accuracy: 0.9941 - val_loss: 0.1333 - val_accuracy: 0.9805\n",
            "\n",
            "Epoch 00011: val_accuracy improved from 0.97856 to 0.98051, saving model to /Dataset/csl/checkpoint-0011.hdf5\n",
            "Epoch 12/100\n",
            "38/38 [==============================] - 3s 75ms/step - loss: 0.0046 - accuracy: 0.9983 - val_loss: 0.1140 - val_accuracy: 0.9766\n",
            "\n",
            "Epoch 00012: val_accuracy did not improve from 0.98051\n",
            "Epoch 13/100\n",
            "38/38 [==============================] - 3s 75ms/step - loss: 0.0118 - accuracy: 0.9975 - val_loss: 0.1033 - val_accuracy: 0.9844\n",
            "\n",
            "Epoch 00013: val_accuracy improved from 0.98051 to 0.98441, saving model to /Dataset/csl/checkpoint-0013.hdf5\n",
            "Epoch 14/100\n",
            "38/38 [==============================] - 3s 76ms/step - loss: 0.0049 - accuracy: 0.9975 - val_loss: 0.1089 - val_accuracy: 0.9805\n",
            "\n",
            "Epoch 00014: val_accuracy did not improve from 0.98441\n",
            "Epoch 15/100\n",
            "38/38 [==============================] - 3s 75ms/step - loss: 0.0222 - accuracy: 0.9925 - val_loss: 0.0989 - val_accuracy: 0.9786\n",
            "\n",
            "Epoch 00015: val_accuracy did not improve from 0.98441\n",
            "Epoch 16/100\n",
            "38/38 [==============================] - 3s 75ms/step - loss: 0.0046 - accuracy: 1.0000 - val_loss: 0.1007 - val_accuracy: 0.9805\n",
            "\n",
            "Epoch 00016: val_accuracy did not improve from 0.98441\n",
            "Epoch 17/100\n",
            "38/38 [==============================] - 3s 75ms/step - loss: 0.0031 - accuracy: 0.9992 - val_loss: 0.1182 - val_accuracy: 0.9805\n",
            "\n",
            "Epoch 00017: val_accuracy did not improve from 0.98441\n",
            "Epoch 18/100\n",
            "38/38 [==============================] - 3s 75ms/step - loss: 0.0012 - accuracy: 1.0000 - val_loss: 0.1077 - val_accuracy: 0.9805\n",
            "\n",
            "Epoch 00018: val_accuracy did not improve from 0.98441\n",
            "Epoch 19/100\n",
            "38/38 [==============================] - 3s 76ms/step - loss: 5.7190e-04 - accuracy: 1.0000 - val_loss: 0.1066 - val_accuracy: 0.9864\n",
            "\n",
            "Epoch 00019: val_accuracy improved from 0.98441 to 0.98635, saving model to /Dataset/csl/checkpoint-0019.hdf5\n",
            "Epoch 20/100\n",
            "38/38 [==============================] - 3s 75ms/step - loss: 0.0054 - accuracy: 0.9983 - val_loss: 0.0982 - val_accuracy: 0.9825\n",
            "\n",
            "Epoch 00020: val_accuracy did not improve from 0.98635\n",
            "Epoch 21/100\n",
            "38/38 [==============================] - 3s 75ms/step - loss: 0.2379 - accuracy: 0.9389 - val_loss: 0.4723 - val_accuracy: 0.8558\n",
            "\n",
            "Epoch 00021: val_accuracy did not improve from 0.98635\n",
            "Epoch 22/100\n",
            "38/38 [==============================] - 3s 75ms/step - loss: 0.1928 - accuracy: 0.9464 - val_loss: 0.1052 - val_accuracy: 0.9688\n",
            "\n",
            "Epoch 00022: val_accuracy did not improve from 0.98635\n",
            "Epoch 23/100\n",
            "38/38 [==============================] - 3s 75ms/step - loss: 0.0382 - accuracy: 0.9899 - val_loss: 0.0637 - val_accuracy: 0.9883\n",
            "\n",
            "Epoch 00023: val_accuracy improved from 0.98635 to 0.98830, saving model to /Dataset/csl/checkpoint-0023.hdf5\n",
            "Epoch 24/100\n",
            "38/38 [==============================] - 3s 75ms/step - loss: 0.0244 - accuracy: 0.9933 - val_loss: 0.0935 - val_accuracy: 0.9786\n",
            "\n",
            "Epoch 00024: val_accuracy did not improve from 0.98830\n",
            "Epoch 25/100\n",
            "38/38 [==============================] - 3s 75ms/step - loss: 0.0064 - accuracy: 0.9983 - val_loss: 0.1360 - val_accuracy: 0.9766\n",
            "\n",
            "Epoch 00025: val_accuracy did not improve from 0.98830\n",
            "Epoch 26/100\n",
            "38/38 [==============================] - 3s 75ms/step - loss: 0.0077 - accuracy: 0.9958 - val_loss: 0.1001 - val_accuracy: 0.9844\n",
            "\n",
            "Epoch 00026: val_accuracy did not improve from 0.98830\n",
            "Epoch 27/100\n",
            "38/38 [==============================] - 3s 74ms/step - loss: 0.0136 - accuracy: 0.9941 - val_loss: 0.1207 - val_accuracy: 0.9805\n",
            "\n",
            "Epoch 00027: val_accuracy did not improve from 0.98830\n",
            "Epoch 28/100\n",
            "38/38 [==============================] - 3s 75ms/step - loss: 0.0052 - accuracy: 0.9975 - val_loss: 0.1417 - val_accuracy: 0.9766\n",
            "\n",
            "Epoch 00028: val_accuracy did not improve from 0.98830\n",
            "Epoch 29/100\n",
            "38/38 [==============================] - 3s 74ms/step - loss: 0.0019 - accuracy: 1.0000 - val_loss: 0.1019 - val_accuracy: 0.9825\n",
            "\n",
            "Epoch 00029: val_accuracy did not improve from 0.98830\n",
            "Epoch 30/100\n",
            "38/38 [==============================] - 3s 75ms/step - loss: 7.5003e-04 - accuracy: 1.0000 - val_loss: 0.1143 - val_accuracy: 0.9825\n",
            "\n",
            "Epoch 00030: val_accuracy did not improve from 0.98830\n",
            "Epoch 31/100\n",
            "38/38 [==============================] - 3s 76ms/step - loss: 4.4236e-04 - accuracy: 1.0000 - val_loss: 0.1199 - val_accuracy: 0.9825\n",
            "\n",
            "Epoch 00031: val_accuracy did not improve from 0.98830\n",
            "Epoch 32/100\n",
            "38/38 [==============================] - 3s 75ms/step - loss: 3.1029e-04 - accuracy: 1.0000 - val_loss: 0.1241 - val_accuracy: 0.9825\n",
            "\n",
            "Epoch 00032: val_accuracy did not improve from 0.98830\n",
            "Epoch 33/100\n",
            "38/38 [==============================] - 3s 75ms/step - loss: 2.1405e-04 - accuracy: 1.0000 - val_loss: 0.1300 - val_accuracy: 0.9844\n",
            "\n",
            "Epoch 00033: val_accuracy did not improve from 0.98830\n",
            "Epoch 34/100\n",
            "38/38 [==============================] - 3s 75ms/step - loss: 1.3368e-04 - accuracy: 1.0000 - val_loss: 0.1334 - val_accuracy: 0.9844\n",
            "\n",
            "Epoch 00034: val_accuracy did not improve from 0.98830\n",
            "Epoch 35/100\n",
            "38/38 [==============================] - 3s 76ms/step - loss: 1.3452e-04 - accuracy: 1.0000 - val_loss: 0.1371 - val_accuracy: 0.9844\n",
            "\n",
            "Epoch 00035: val_accuracy did not improve from 0.98830\n",
            "Epoch 36/100\n",
            "38/38 [==============================] - 3s 74ms/step - loss: 1.0647e-04 - accuracy: 1.0000 - val_loss: 0.1403 - val_accuracy: 0.9844\n",
            "\n",
            "Epoch 00036: val_accuracy did not improve from 0.98830\n",
            "Epoch 37/100\n",
            "38/38 [==============================] - 3s 75ms/step - loss: 6.5537e-05 - accuracy: 1.0000 - val_loss: 0.1437 - val_accuracy: 0.9844\n",
            "\n",
            "Epoch 00037: val_accuracy did not improve from 0.98830\n",
            "Epoch 38/100\n",
            "38/38 [==============================] - 3s 75ms/step - loss: 4.3854e-05 - accuracy: 1.0000 - val_loss: 0.1475 - val_accuracy: 0.9844\n",
            "\n",
            "Epoch 00038: val_accuracy did not improve from 0.98830\n",
            "Epoch 39/100\n",
            "38/38 [==============================] - 3s 75ms/step - loss: 5.8461e-05 - accuracy: 1.0000 - val_loss: 0.1496 - val_accuracy: 0.9844\n",
            "\n",
            "Epoch 00039: val_accuracy did not improve from 0.98830\n",
            "Epoch 40/100\n",
            "38/38 [==============================] - 3s 75ms/step - loss: 4.8596e-05 - accuracy: 1.0000 - val_loss: 0.1525 - val_accuracy: 0.9864\n",
            "\n",
            "Epoch 00040: val_accuracy did not improve from 0.98830\n",
            "Epoch 41/100\n",
            "38/38 [==============================] - 3s 76ms/step - loss: 1.7733e-05 - accuracy: 1.0000 - val_loss: 0.1550 - val_accuracy: 0.9844\n",
            "\n",
            "Epoch 00041: val_accuracy did not improve from 0.98830\n",
            "Epoch 42/100\n",
            "38/38 [==============================] - 3s 75ms/step - loss: 7.0458e-05 - accuracy: 1.0000 - val_loss: 0.1605 - val_accuracy: 0.9844\n",
            "\n",
            "Epoch 00042: val_accuracy did not improve from 0.98830\n",
            "Epoch 43/100\n",
            "38/38 [==============================] - 3s 75ms/step - loss: 2.6202e-05 - accuracy: 1.0000 - val_loss: 0.1667 - val_accuracy: 0.9844\n",
            "\n",
            "Epoch 00043: val_accuracy did not improve from 0.98830\n",
            "Epoch 44/100\n",
            "38/38 [==============================] - 3s 75ms/step - loss: 1.7365e-05 - accuracy: 1.0000 - val_loss: 0.1661 - val_accuracy: 0.9844\n",
            "\n",
            "Epoch 00044: val_accuracy did not improve from 0.98830\n",
            "Epoch 45/100\n",
            "38/38 [==============================] - 3s 75ms/step - loss: 1.5189e-05 - accuracy: 1.0000 - val_loss: 0.1703 - val_accuracy: 0.9844\n",
            "\n",
            "Epoch 00045: val_accuracy did not improve from 0.98830\n",
            "Epoch 46/100\n",
            "38/38 [==============================] - 3s 76ms/step - loss: 1.4291e-05 - accuracy: 1.0000 - val_loss: 0.1714 - val_accuracy: 0.9844\n",
            "\n",
            "Epoch 00046: val_accuracy did not improve from 0.98830\n",
            "Epoch 47/100\n",
            "38/38 [==============================] - 3s 76ms/step - loss: 3.8977e-05 - accuracy: 1.0000 - val_loss: 0.1719 - val_accuracy: 0.9844\n",
            "\n",
            "Epoch 00047: val_accuracy did not improve from 0.98830\n",
            "Epoch 48/100\n",
            "38/38 [==============================] - 3s 76ms/step - loss: 1.5401e-05 - accuracy: 1.0000 - val_loss: 0.1718 - val_accuracy: 0.9844\n",
            "\n",
            "Epoch 00048: val_accuracy did not improve from 0.98830\n",
            "Epoch 49/100\n",
            "38/38 [==============================] - 3s 75ms/step - loss: 3.1219e-05 - accuracy: 1.0000 - val_loss: 0.1718 - val_accuracy: 0.9844\n",
            "\n",
            "Epoch 00049: val_accuracy did not improve from 0.98830\n",
            "Epoch 50/100\n",
            "38/38 [==============================] - 3s 75ms/step - loss: 2.4295e-05 - accuracy: 1.0000 - val_loss: 0.1731 - val_accuracy: 0.9844\n",
            "\n",
            "Epoch 00050: val_accuracy did not improve from 0.98830\n",
            "Epoch 51/100\n",
            "38/38 [==============================] - 3s 76ms/step - loss: 1.5566e-05 - accuracy: 1.0000 - val_loss: 0.1758 - val_accuracy: 0.9844\n",
            "\n",
            "Epoch 00051: val_accuracy did not improve from 0.98830\n",
            "Epoch 52/100\n",
            "38/38 [==============================] - 3s 76ms/step - loss: 6.9278e-06 - accuracy: 1.0000 - val_loss: 0.1772 - val_accuracy: 0.9844\n",
            "\n",
            "Epoch 00052: val_accuracy did not improve from 0.98830\n",
            "Epoch 53/100\n",
            "38/38 [==============================] - 3s 76ms/step - loss: 1.2901e-05 - accuracy: 1.0000 - val_loss: 0.1754 - val_accuracy: 0.9844\n",
            "\n",
            "Epoch 00053: val_accuracy did not improve from 0.98830\n",
            "Epoch 54/100\n",
            "38/38 [==============================] - 3s 75ms/step - loss: 3.1221e-05 - accuracy: 1.0000 - val_loss: 0.1792 - val_accuracy: 0.9844\n",
            "\n",
            "Epoch 00054: val_accuracy did not improve from 0.98830\n",
            "Epoch 55/100\n",
            "38/38 [==============================] - 3s 76ms/step - loss: 3.2772e-05 - accuracy: 1.0000 - val_loss: 0.1928 - val_accuracy: 0.9805\n",
            "\n",
            "Epoch 00055: val_accuracy did not improve from 0.98830\n",
            "Epoch 56/100\n",
            "38/38 [==============================] - 3s 76ms/step - loss: 2.0157e-05 - accuracy: 1.0000 - val_loss: 0.1777 - val_accuracy: 0.9844\n",
            "\n",
            "Epoch 00056: val_accuracy did not improve from 0.98830\n",
            "Epoch 57/100\n",
            "38/38 [==============================] - 3s 75ms/step - loss: 9.4273e-06 - accuracy: 1.0000 - val_loss: 0.1809 - val_accuracy: 0.9844\n",
            "\n",
            "Epoch 00057: val_accuracy did not improve from 0.98830\n",
            "Epoch 58/100\n",
            "38/38 [==============================] - 3s 75ms/step - loss: 5.9527e-06 - accuracy: 1.0000 - val_loss: 0.1812 - val_accuracy: 0.9844\n",
            "\n",
            "Epoch 00058: val_accuracy did not improve from 0.98830\n",
            "Epoch 59/100\n",
            "38/38 [==============================] - 3s 75ms/step - loss: 9.1390e-06 - accuracy: 1.0000 - val_loss: 0.1813 - val_accuracy: 0.9844\n",
            "\n",
            "Epoch 00059: val_accuracy did not improve from 0.98830\n",
            "Epoch 60/100\n",
            "38/38 [==============================] - 3s 76ms/step - loss: 6.9919e-06 - accuracy: 1.0000 - val_loss: 0.1828 - val_accuracy: 0.9844\n",
            "\n",
            "Epoch 00060: val_accuracy did not improve from 0.98830\n",
            "Epoch 61/100\n",
            "38/38 [==============================] - 3s 76ms/step - loss: 8.9286e-06 - accuracy: 1.0000 - val_loss: 0.1855 - val_accuracy: 0.9825\n",
            "\n",
            "Epoch 00061: val_accuracy did not improve from 0.98830\n",
            "Epoch 62/100\n",
            "38/38 [==============================] - 3s 75ms/step - loss: 1.3651e-05 - accuracy: 1.0000 - val_loss: 0.1816 - val_accuracy: 0.9844\n",
            "\n",
            "Epoch 00062: val_accuracy did not improve from 0.98830\n",
            "Epoch 63/100\n",
            "38/38 [==============================] - 3s 76ms/step - loss: 1.5073e-05 - accuracy: 1.0000 - val_loss: 0.1939 - val_accuracy: 0.9844\n",
            "\n",
            "Epoch 00063: val_accuracy did not improve from 0.98830\n",
            "Epoch 64/100\n",
            "38/38 [==============================] - 3s 76ms/step - loss: 4.3980e-06 - accuracy: 1.0000 - val_loss: 0.1881 - val_accuracy: 0.9825\n",
            "\n",
            "Epoch 00064: val_accuracy did not improve from 0.98830\n",
            "Epoch 65/100\n",
            "38/38 [==============================] - 3s 75ms/step - loss: 6.3586e-06 - accuracy: 1.0000 - val_loss: 0.1898 - val_accuracy: 0.9825\n",
            "\n",
            "Epoch 00065: val_accuracy did not improve from 0.98830\n",
            "Epoch 66/100\n",
            "38/38 [==============================] - 3s 75ms/step - loss: 4.2457e-05 - accuracy: 1.0000 - val_loss: 0.1861 - val_accuracy: 0.9844\n",
            "\n",
            "Epoch 00066: val_accuracy did not improve from 0.98830\n",
            "Epoch 67/100\n",
            "38/38 [==============================] - 3s 74ms/step - loss: 1.7165e-05 - accuracy: 1.0000 - val_loss: 0.1796 - val_accuracy: 0.9844\n",
            "\n",
            "Epoch 00067: val_accuracy did not improve from 0.98830\n",
            "Epoch 68/100\n",
            "38/38 [==============================] - 3s 75ms/step - loss: 1.0807e-05 - accuracy: 1.0000 - val_loss: 0.1825 - val_accuracy: 0.9844\n",
            "\n",
            "Epoch 00068: val_accuracy did not improve from 0.98830\n",
            "Epoch 69/100\n",
            "38/38 [==============================] - 3s 76ms/step - loss: 2.6758e-06 - accuracy: 1.0000 - val_loss: 0.1834 - val_accuracy: 0.9844\n",
            "\n",
            "Epoch 00069: val_accuracy did not improve from 0.98830\n",
            "Epoch 70/100\n",
            "38/38 [==============================] - 3s 76ms/step - loss: 3.7999e-06 - accuracy: 1.0000 - val_loss: 0.1843 - val_accuracy: 0.9844\n",
            "\n",
            "Epoch 00070: val_accuracy did not improve from 0.98830\n",
            "Epoch 71/100\n",
            "38/38 [==============================] - 3s 76ms/step - loss: 6.0805e-06 - accuracy: 1.0000 - val_loss: 0.1884 - val_accuracy: 0.9825\n",
            "\n",
            "Epoch 00071: val_accuracy did not improve from 0.98830\n",
            "Epoch 72/100\n",
            "38/38 [==============================] - 3s 76ms/step - loss: 3.3759e-06 - accuracy: 1.0000 - val_loss: 0.1874 - val_accuracy: 0.9844\n",
            "\n",
            "Epoch 00072: val_accuracy did not improve from 0.98830\n",
            "Epoch 73/100\n",
            "38/38 [==============================] - 3s 76ms/step - loss: 3.5935e-06 - accuracy: 1.0000 - val_loss: 0.1896 - val_accuracy: 0.9844\n",
            "\n",
            "Epoch 00073: val_accuracy did not improve from 0.98830\n",
            "Epoch 74/100\n",
            "38/38 [==============================] - 3s 76ms/step - loss: 6.9001e-06 - accuracy: 1.0000 - val_loss: 0.1906 - val_accuracy: 0.9844\n",
            "\n",
            "Epoch 00074: val_accuracy did not improve from 0.98830\n",
            "Epoch 75/100\n",
            "38/38 [==============================] - 3s 75ms/step - loss: 6.4273e-06 - accuracy: 1.0000 - val_loss: 0.2010 - val_accuracy: 0.9825\n",
            "\n",
            "Epoch 00075: val_accuracy did not improve from 0.98830\n",
            "Epoch 76/100\n",
            "38/38 [==============================] - 3s 75ms/step - loss: 3.3337e-06 - accuracy: 1.0000 - val_loss: 0.1971 - val_accuracy: 0.9844\n",
            "\n",
            "Epoch 00076: val_accuracy did not improve from 0.98830\n",
            "Epoch 77/100\n",
            "38/38 [==============================] - 3s 76ms/step - loss: 6.0538e-06 - accuracy: 1.0000 - val_loss: 0.1849 - val_accuracy: 0.9844\n",
            "\n",
            "Epoch 00077: val_accuracy did not improve from 0.98830\n",
            "Epoch 78/100\n",
            "38/38 [==============================] - 3s 75ms/step - loss: 8.9325e-06 - accuracy: 1.0000 - val_loss: 0.1901 - val_accuracy: 0.9825\n",
            "\n",
            "Epoch 00078: val_accuracy did not improve from 0.98830\n",
            "Epoch 79/100\n",
            "38/38 [==============================] - 3s 84ms/step - loss: 6.9484e-06 - accuracy: 1.0000 - val_loss: 0.1879 - val_accuracy: 0.9844\n",
            "\n",
            "Epoch 00079: val_accuracy did not improve from 0.98830\n",
            "Epoch 80/100\n",
            "38/38 [==============================] - 3s 75ms/step - loss: 2.8431e-06 - accuracy: 1.0000 - val_loss: 0.1894 - val_accuracy: 0.9844\n",
            "\n",
            "Epoch 00080: val_accuracy did not improve from 0.98830\n",
            "Epoch 81/100\n",
            "38/38 [==============================] - 3s 76ms/step - loss: 3.7472e-06 - accuracy: 1.0000 - val_loss: 0.1903 - val_accuracy: 0.9844\n",
            "\n",
            "Epoch 00081: val_accuracy did not improve from 0.98830\n",
            "Epoch 82/100\n",
            "38/38 [==============================] - 3s 76ms/step - loss: 4.2708e-06 - accuracy: 1.0000 - val_loss: 0.1909 - val_accuracy: 0.9844\n",
            "\n",
            "Epoch 00082: val_accuracy did not improve from 0.98830\n",
            "Epoch 83/100\n",
            "38/38 [==============================] - 3s 76ms/step - loss: 9.0183e-06 - accuracy: 1.0000 - val_loss: 0.2001 - val_accuracy: 0.9805\n",
            "\n",
            "Epoch 00083: val_accuracy did not improve from 0.98830\n",
            "Epoch 84/100\n",
            "38/38 [==============================] - 3s 75ms/step - loss: 3.5584e-06 - accuracy: 1.0000 - val_loss: 0.1965 - val_accuracy: 0.9844\n",
            "\n",
            "Epoch 00084: val_accuracy did not improve from 0.98830\n",
            "Epoch 85/100\n",
            "38/38 [==============================] - 3s 76ms/step - loss: 1.2327e-06 - accuracy: 1.0000 - val_loss: 0.1972 - val_accuracy: 0.9844\n",
            "\n",
            "Epoch 00085: val_accuracy did not improve from 0.98830\n",
            "Epoch 86/100\n",
            "38/38 [==============================] - 3s 76ms/step - loss: 3.5229e-06 - accuracy: 1.0000 - val_loss: 0.1984 - val_accuracy: 0.9844\n",
            "\n",
            "Epoch 00086: val_accuracy did not improve from 0.98830\n",
            "Epoch 87/100\n",
            "38/38 [==============================] - 3s 76ms/step - loss: 9.8587e-06 - accuracy: 1.0000 - val_loss: 0.2044 - val_accuracy: 0.9786\n",
            "\n",
            "Epoch 00087: val_accuracy did not improve from 0.98830\n",
            "Epoch 88/100\n",
            "38/38 [==============================] - 3s 76ms/step - loss: 3.6966e-06 - accuracy: 1.0000 - val_loss: 0.1994 - val_accuracy: 0.9844\n",
            "\n",
            "Epoch 00088: val_accuracy did not improve from 0.98830\n",
            "Epoch 89/100\n",
            "38/38 [==============================] - 3s 75ms/step - loss: 2.7274e-06 - accuracy: 1.0000 - val_loss: 0.2030 - val_accuracy: 0.9805\n",
            "\n",
            "Epoch 00089: val_accuracy did not improve from 0.98830\n",
            "Epoch 90/100\n",
            "38/38 [==============================] - 3s 76ms/step - loss: 0.0040 - accuracy: 0.9992 - val_loss: 0.2037 - val_accuracy: 0.9649\n",
            "\n",
            "Epoch 00090: val_accuracy did not improve from 0.98830\n",
            "Epoch 91/100\n",
            "38/38 [==============================] - 3s 76ms/step - loss: 0.3264 - accuracy: 0.9020 - val_loss: 0.4996 - val_accuracy: 0.9337\n",
            "\n",
            "Epoch 00091: val_accuracy did not improve from 0.98830\n",
            "Epoch 92/100\n",
            "38/38 [==============================] - 3s 75ms/step - loss: 0.7204 - accuracy: 0.5946 - val_loss: 0.6939 - val_accuracy: 0.4873\n",
            "\n",
            "Epoch 00092: val_accuracy did not improve from 0.98830\n",
            "Epoch 93/100\n",
            "38/38 [==============================] - 3s 75ms/step - loss: 0.6909 - accuracy: 0.4899 - val_loss: 0.6788 - val_accuracy: 0.4912\n",
            "\n",
            "Epoch 00093: val_accuracy did not improve from 0.98830\n",
            "Epoch 94/100\n",
            "38/38 [==============================] - 3s 75ms/step - loss: 0.6625 - accuracy: 0.4874 - val_loss: 0.6517 - val_accuracy: 0.4912\n",
            "\n",
            "Epoch 00094: val_accuracy did not improve from 0.98830\n",
            "Epoch 95/100\n",
            "38/38 [==============================] - 3s 75ms/step - loss: 0.6987 - accuracy: 0.5469 - val_loss: 0.7002 - val_accuracy: 0.5283\n",
            "\n",
            "Epoch 00095: val_accuracy did not improve from 0.98830\n",
            "Epoch 96/100\n",
            "38/38 [==============================] - 3s 75ms/step - loss: 0.6770 - accuracy: 0.5503 - val_loss: 0.6588 - val_accuracy: 0.5809\n",
            "\n",
            "Epoch 00096: val_accuracy did not improve from 0.98830\n",
            "Epoch 97/100\n",
            "38/38 [==============================] - 3s 76ms/step - loss: 0.6244 - accuracy: 0.6784 - val_loss: 0.5943 - val_accuracy: 0.6881\n",
            "\n",
            "Epoch 00097: val_accuracy did not improve from 0.98830\n",
            "Epoch 98/100\n",
            "38/38 [==============================] - 3s 76ms/step - loss: 0.5083 - accuracy: 0.8082 - val_loss: 0.5948 - val_accuracy: 0.6803\n",
            "\n",
            "Epoch 00098: val_accuracy did not improve from 0.98830\n",
            "Epoch 99/100\n",
            "38/38 [==============================] - 3s 75ms/step - loss: 0.5297 - accuracy: 0.7513 - val_loss: 0.6633 - val_accuracy: 0.9357\n",
            "\n",
            "Epoch 00099: val_accuracy did not improve from 0.98830\n",
            "Epoch 100/100\n",
            "38/38 [==============================] - 3s 74ms/step - loss: 0.4488 - accuracy: 0.8945 - val_loss: 1.1923 - val_accuracy: 0.9435\n",
            "\n",
            "Epoch 00100: val_accuracy did not improve from 0.98830\n"
          ]
        },
        {
          "output_type": "execute_result",
          "data": {
            "text/plain": [
              "<keras.callbacks.History at 0x7f2bac77e610>"
            ]
          },
          "metadata": {},
          "execution_count": 27
        }
      ]
    },
    {
      "cell_type": "code",
      "metadata": {
        "id": "RUJEKGDs_RQ7"
      },
      "source": [
        "model1.load_weights(resultPath+\"/csl/checkpoint-0019.hdf5\")"
      ],
      "execution_count": 28,
      "outputs": []
    },
    {
      "cell_type": "code",
      "metadata": {
        "colab": {
          "base_uri": "https://localhost:8080/"
        },
        "id": "mpqSui9qISJL",
        "outputId": "cfa84855-a157-4798-bc73-9ce88460f342"
      },
      "source": [
        "prediction_prob = model1.predict(x_test,verbose=1)\n",
        "y_pred=np.round(prediction_prob)"
      ],
      "execution_count": 29,
      "outputs": [
        {
          "output_type": "stream",
          "name": "stdout",
          "text": [
            "17/17 [==============================] - 0s 19ms/step\n"
          ]
        }
      ]
    },
    {
      "cell_type": "code",
      "metadata": {
        "colab": {
          "base_uri": "https://localhost:8080/"
        },
        "id": "iV6K0pu1IX9a",
        "outputId": "25d20b98-b019-499e-9056-faab0573b0ee"
      },
      "source": [
        "print(accuracy_score(y_test,y_pred))\n",
        "print(precision_score(y_test,y_pred,average='binary'))\n",
        "print(recall_score(y_test,y_pred,average='binary'))\n",
        "print(f1_score(y_test,y_pred,average='binary'))\n",
        "print(confusion_matrix(y_test,y_pred))\n",
        "print(classification_report(y_test,y_pred))"
      ],
      "execution_count": 30,
      "outputs": [
        {
          "output_type": "stream",
          "name": "stdout",
          "text": [
            "0.98635477582846\n",
            "0.9916666666666667\n",
            "0.9794238683127572\n",
            "0.9855072463768116\n",
            "[[268   2]\n",
            " [  5 238]]\n",
            "              precision    recall  f1-score   support\n",
            "\n",
            "           0       0.98      0.99      0.99       270\n",
            "           1       0.99      0.98      0.99       243\n",
            "\n",
            "    accuracy                           0.99       513\n",
            "   macro avg       0.99      0.99      0.99       513\n",
            "weighted avg       0.99      0.99      0.99       513\n",
            "\n"
          ]
        }
      ]
    },
    {
      "cell_type": "code",
      "metadata": {
        "colab": {
          "base_uri": "https://localhost:8080/",
          "height": 295
        },
        "id": "F8IJ3-tlIany",
        "outputId": "073ea56b-60c8-481d-c963-4b4bc4da7002"
      },
      "source": [
        "import matplotlib.pyplot as plt\n",
        "fpr = dict()\n",
        "tpr = dict()\n",
        "roc_auc = dict()\n",
        "for i in range(2):\n",
        "    fpr[i], tpr[i], _ = roc_curve(y_test, prediction_prob)\n",
        "    roc_auc[i] = auc(fpr[i], tpr[i])\n",
        "\n",
        "\n",
        "pyplot.figure()\n",
        "pyplot.plot(fpr[0], tpr[0],color='blue', lw=1, label='CS-CNN - ROC curve (area = %0.2f)' % roc_auc[0])\n",
        "\n",
        "fpr = dict()\n",
        "tpr = dict()\n",
        "roc_auc = dict()\n",
        "for i in range(2):\n",
        "    fpr[i], tpr[i], _ = roc_curve(y_test, prediction_prob1)\n",
        "    roc_auc[i] = auc(fpr[i], tpr[i])\n",
        "pyplot.plot(fpr[0], tpr[0],color='darkorange', lw=1, label='CNN - ROC curve (area = %0.2f)' % roc_auc[0])\n",
        "plt.plot([0, 1], [0, 1], color='red', lw=1, linestyle='--')\n",
        "pyplot.xlim([0.0, 1.0])\n",
        "pyplot.ylim([0.0, 1.05])\n",
        "pyplot.xlabel('False Positive Rate')\n",
        "pyplot.ylabel('True Positive Rate')\n",
        "pyplot.title('CNN - Receiver operating characteristic')\n",
        "plt.legend(loc=\"lower right\")\n",
        "pyplot.show()"
      ],
      "execution_count": 32,
      "outputs": [
        {
          "output_type": "display_data",
          "data": {
            "image/png": "[encoded data removed]",
            "text/plain": [
              "<Figure size 432x288 with 1 Axes>"
            ]
          },
          "metadata": {
            "needs_background": "light"
          }
        }
      ]
    },
    {
      "cell_type": "code",
      "metadata": {
        "id": "nDj9uwZWJBBf"
      },
      "source": [
        "m1model = Model(inputs=model.input,outputs=model.get_layer('dense_1').output)\n",
        "m2model = Model(inputs=model1.input,outputs=model1.get_layer('dense_3').output)"
      ],
      "execution_count": 34,
      "outputs": []
    },
    {
      "cell_type": "code",
      "metadata": {
        "colab": {
          "base_uri": "https://localhost:8080/"
        },
        "id": "J6dHPeHrNKXj",
        "outputId": "3b2c046b-38c2-4104-a071-2842d7dc8697"
      },
      "source": [
        "m1_x_train = m1model.predict(x_train,verbose=1)\n",
        "m1_x_test = m1model.predict(x_test,verbose=1)\n",
        "\n",
        "m2_x_train = m2model.predict(x_train,verbose=1)\n",
        "m2_x_test = m2model.predict(x_test,verbose=1)"
      ],
      "execution_count": 35,
      "outputs": [
        {
          "output_type": "stream",
          "name": "stdout",
          "text": [
            "38/38 [==============================] - 1s 18ms/step\n",
            "17/17 [==============================] - 0s 15ms/step\n",
            "38/38 [==============================] - 1s 15ms/step\n",
            "17/17 [==============================] - 0s 15ms/step\n"
          ]
        }
      ]
    },
    {
      "cell_type": "code",
      "metadata": {
        "colab": {
          "base_uri": "https://localhost:8080/"
        },
        "id": "rOWwASaINooU",
        "outputId": "e6d9ba59-2bee-4c68-8162-c4d0f0084124"
      },
      "source": [
        "print(\"Shape of model1 Train and Test DF : \",m1_x_train.shape,\" : \",m1_x_test.shape)\n",
        "print(\"Shape of model2 Train and Test DF : \",m2_x_train.shape,\" : \",m2_x_test.shape)"
      ],
      "execution_count": 36,
      "outputs": [
        {
          "output_type": "stream",
          "name": "stdout",
          "text": [
            "Shape of model1 Train and Test DF :  (1194, 1)  :  (513, 1)\n",
            "Shape of model2 Train and Test DF :  (1194, 1)  :  (513, 1)\n"
          ]
        }
      ]
    },
    {
      "cell_type": "code",
      "metadata": {
        "id": "-tc4PGZgOOnl"
      },
      "source": [
        "def printMetrics(true,pred):\n",
        "    print(\"Accuracy : \",accuracy_score(true, pred))\n",
        "    print(\"Precision\",precision_score(true, pred , average=\"weighted\"))\n",
        "    print(\"Recall : \",recall_score(true, pred , average=\"weighted\"))\n",
        "    print(\"F1-score : \",f1_score(true, pred, average=\"weighted\"))\n",
        "    print(\"Confusion Matrix : \")\n",
        "    print(confusion_matrix(true, pred))\n",
        "    print(classification_report(true,pred))"
      ],
      "execution_count": 37,
      "outputs": []
    },
    {
      "cell_type": "code",
      "metadata": {
        "colab": {
          "base_uri": "https://localhost:8080/"
        },
        "id": "4alG-hj2N2Yf",
        "outputId": "1ff1ac16-b265-4a9d-ccc8-2c4710b54fd7"
      },
      "source": [
        "LR = LogisticRegression()\n",
        "LR.fit(m1_x_train, y_train)\n",
        "LRprob = LR.predict_proba(m1_x_test)\n",
        "y_pred = LR.predict(m1_x_test)\n",
        "print(\"cost-insensitive\")\n",
        "printMetrics(y_test,y_pred)\n",
        "\n",
        "LR = LogisticRegression()\n",
        "LR.fit(m2_x_train, y_train)\n",
        "CS_LRprob = LR.predict_proba(m2_x_test)\n",
        "y_pred = LR.predict(m2_x_test)\n",
        "print(\"cost-sensitive\")\n",
        "printMetrics(y_test,y_pred)"
      ],
      "execution_count": 38,
      "outputs": [
        {
          "output_type": "stream",
          "name": "stdout",
          "text": [
            "cost-insensitive\n",
            "Accuracy :  0.9805068226120858\n",
            "Precision 0.9807471347604012\n",
            "Recall :  0.9805068226120858\n",
            "F1-score :  0.9804920956236746\n",
            "Confusion Matrix : \n",
            "[[268   2]\n",
            " [  8 235]]\n",
            "              precision    recall  f1-score   support\n",
            "\n",
            "           0       0.97      0.99      0.98       270\n",
            "           1       0.99      0.97      0.98       243\n",
            "\n",
            "    accuracy                           0.98       513\n",
            "   macro avg       0.98      0.98      0.98       513\n",
            "weighted avg       0.98      0.98      0.98       513\n",
            "\n",
            "cost-sensitive\n",
            "Accuracy :  0.9883040935672515\n",
            "Precision 0.9884137549689206\n",
            "Recall :  0.9883040935672515\n",
            "F1-score :  0.9882985624911682\n",
            "Confusion Matrix : \n",
            "[[269   1]\n",
            " [  5 238]]\n",
            "              precision    recall  f1-score   support\n",
            "\n",
            "           0       0.98      1.00      0.99       270\n",
            "           1       1.00      0.98      0.99       243\n",
            "\n",
            "    accuracy                           0.99       513\n",
            "   macro avg       0.99      0.99      0.99       513\n",
            "weighted avg       0.99      0.99      0.99       513\n",
            "\n"
          ]
        }
      ]
    },
    {
      "cell_type": "code",
      "metadata": {
        "colab": {
          "base_uri": "https://localhost:8080/"
        },
        "id": "3N7zMQB9UoOb",
        "outputId": "204ad2fb-4ebe-479d-a11f-74c755ffe6a7"
      },
      "source": [
        "RF = RandomForestClassifier()\n",
        "RF.fit(m1_x_train, y_train)\n",
        "RFprob = RF.predict_proba(m1_x_test)\n",
        "y_pred = RF.predict(m1_x_test)\n",
        "print(\"cost-insensitive\")\n",
        "printMetrics(y_test,y_pred)\n",
        "\n",
        "RF = RandomForestClassifier()\n",
        "RF.fit(m2_x_train, y_train)\n",
        "CS_RFprob = RF.predict_proba(m2_x_test)\n",
        "y_pred = RF.predict(m2_x_test)\n",
        "print(\"cost-sensitive\")\n",
        "printMetrics(y_test,y_pred)"
      ],
      "execution_count": 39,
      "outputs": [
        {
          "output_type": "stream",
          "name": "stdout",
          "text": [
            "cost-insensitive\n",
            "Accuracy :  0.9805068226120858\n",
            "Precision 0.9805281142813099\n",
            "Recall :  0.9805068226120858\n",
            "F1-score :  0.9805025127241268\n",
            "Confusion Matrix : \n",
            "[[266   4]\n",
            " [  6 237]]\n",
            "              precision    recall  f1-score   support\n",
            "\n",
            "           0       0.98      0.99      0.98       270\n",
            "           1       0.98      0.98      0.98       243\n",
            "\n",
            "    accuracy                           0.98       513\n",
            "   macro avg       0.98      0.98      0.98       513\n",
            "weighted avg       0.98      0.98      0.98       513\n",
            "\n",
            "cost-sensitive\n",
            "Accuracy :  0.98635477582846\n",
            "Precision 0.9864131482552535\n",
            "Recall :  0.98635477582846\n",
            "F1-score :  0.9863500933453018\n",
            "Confusion Matrix : \n",
            "[[268   2]\n",
            " [  5 238]]\n",
            "              precision    recall  f1-score   support\n",
            "\n",
            "           0       0.98      0.99      0.99       270\n",
            "           1       0.99      0.98      0.99       243\n",
            "\n",
            "    accuracy                           0.99       513\n",
            "   macro avg       0.99      0.99      0.99       513\n",
            "weighted avg       0.99      0.99      0.99       513\n",
            "\n"
          ]
        }
      ]
    },
    {
      "cell_type": "code",
      "metadata": {
        "colab": {
          "base_uri": "https://localhost:8080/"
        },
        "id": "gYyDSr-KU75W",
        "outputId": "7da9d15b-0b56-4846-a5d3-6bc6d971cc54"
      },
      "source": [
        "DT = DecisionTreeClassifier()\n",
        "DT.fit(m1_x_train, y_train)\n",
        "DTprob = DT.predict_proba(m1_x_test)\n",
        "y_pred = DT.predict(m1_x_test)\n",
        "print(\"cost-insensitive\")\n",
        "printMetrics(y_test,y_pred)\n",
        "\n",
        "DT = DecisionTreeClassifier()\n",
        "DT.fit(m2_x_train, y_train)\n",
        "CS_DTprob = DT.predict_proba(m2_x_test)\n",
        "y_pred = DT.predict(m2_x_test)\n",
        "print(\"cost-sensitive\")\n",
        "printMetrics(y_test,y_pred)"
      ],
      "execution_count": 40,
      "outputs": [
        {
          "output_type": "stream",
          "name": "stdout",
          "text": [
            "cost-insensitive\n",
            "Accuracy :  0.9805068226120858\n",
            "Precision 0.9805281142813099\n",
            "Recall :  0.9805068226120858\n",
            "F1-score :  0.9805025127241268\n",
            "Confusion Matrix : \n",
            "[[266   4]\n",
            " [  6 237]]\n",
            "              precision    recall  f1-score   support\n",
            "\n",
            "           0       0.98      0.99      0.98       270\n",
            "           1       0.98      0.98      0.98       243\n",
            "\n",
            "    accuracy                           0.98       513\n",
            "   macro avg       0.98      0.98      0.98       513\n",
            "weighted avg       0.98      0.98      0.98       513\n",
            "\n",
            "cost-sensitive\n",
            "Accuracy :  0.98635477582846\n",
            "Precision 0.9864131482552535\n",
            "Recall :  0.98635477582846\n",
            "F1-score :  0.9863500933453018\n",
            "Confusion Matrix : \n",
            "[[268   2]\n",
            " [  5 238]]\n",
            "              precision    recall  f1-score   support\n",
            "\n",
            "           0       0.98      0.99      0.99       270\n",
            "           1       0.99      0.98      0.99       243\n",
            "\n",
            "    accuracy                           0.99       513\n",
            "   macro avg       0.99      0.99      0.99       513\n",
            "weighted avg       0.99      0.99      0.99       513\n",
            "\n"
          ]
        }
      ]
    },
    {
      "cell_type": "code",
      "metadata": {
        "colab": {
          "base_uri": "https://localhost:8080/"
        },
        "id": "Vn0NQGd1VJuV",
        "outputId": "c52f0c5b-bda4-40af-f5ad-ea9c072db478"
      },
      "source": [
        "\n",
        "KNN = KNeighborsClassifier()\n",
        "KNN.fit(m1_x_train, y_train)\n",
        "KNNprob = KNN.predict_proba(m1_x_test)\n",
        "y_pred = KNN.predict(m1_x_test)\n",
        "print(\"cost-insensitive\")\n",
        "printMetrics(y_test,y_pred)\n",
        "\n",
        "KNN = KNeighborsClassifier()\n",
        "KNN.fit(m2_x_train, y_train)\n",
        "CS_KNNprob = KNN.predict_proba(m2_x_test)\n",
        "y_pred = KNN.predict(m2_x_test)\n",
        "print(\"cost-sensitive\")\n",
        "printMetrics(y_test,y_pred)"
      ],
      "execution_count": 41,
      "outputs": [
        {
          "output_type": "stream",
          "name": "stdout",
          "text": [
            "cost-insensitive\n",
            "Accuracy :  0.9785575048732943\n",
            "Precision 0.9787181858389289\n",
            "Recall :  0.9785575048732943\n",
            "F1-score :  0.9785444174628143\n",
            "Confusion Matrix : \n",
            "[[267   3]\n",
            " [  8 235]]\n",
            "              precision    recall  f1-score   support\n",
            "\n",
            "           0       0.97      0.99      0.98       270\n",
            "           1       0.99      0.97      0.98       243\n",
            "\n",
            "    accuracy                           0.98       513\n",
            "   macro avg       0.98      0.98      0.98       513\n",
            "weighted avg       0.98      0.98      0.98       513\n",
            "\n",
            "cost-sensitive\n",
            "Accuracy :  0.98635477582846\n",
            "Precision 0.9864131482552535\n",
            "Recall :  0.98635477582846\n",
            "F1-score :  0.9863500933453018\n",
            "Confusion Matrix : \n",
            "[[268   2]\n",
            " [  5 238]]\n",
            "              precision    recall  f1-score   support\n",
            "\n",
            "           0       0.98      0.99      0.99       270\n",
            "           1       0.99      0.98      0.99       243\n",
            "\n",
            "    accuracy                           0.99       513\n",
            "   macro avg       0.99      0.99      0.99       513\n",
            "weighted avg       0.99      0.99      0.99       513\n",
            "\n"
          ]
        }
      ]
    },
    {
      "cell_type": "code",
      "metadata": {
        "colab": {
          "base_uri": "https://localhost:8080/"
        },
        "id": "YI-AnbGXVLA8",
        "outputId": "42e14fc4-f12b-4096-adc7-7cc31960daca"
      },
      "source": [
        "\n",
        "GNB = GaussianNB()\n",
        "GNB.fit(m1_x_train, y_train)\n",
        "GNBprob = GNB.predict_proba(m1_x_test)\n",
        "y_pred = GNB.predict(m1_x_test)\n",
        "print(\"cost-insensitive\")\n",
        "printMetrics(y_test,y_pred)\n",
        "\n",
        "GNB = GaussianNB()\n",
        "GNB.fit(m2_x_train, y_train)\n",
        "CS_GNBprob = GNB.predict_proba(m2_x_test)\n",
        "y_pred = GNB.predict(m2_x_test)\n",
        "print(\"cost-sensitive\")\n",
        "printMetrics(y_test,y_pred)"
      ],
      "execution_count": 42,
      "outputs": [
        {
          "output_type": "stream",
          "name": "stdout",
          "text": [
            "cost-insensitive\n",
            "Accuracy :  0.9805068226120858\n",
            "Precision 0.9806081492709571\n",
            "Recall :  0.9805068226120858\n",
            "F1-score :  0.9804976041519468\n",
            "Confusion Matrix : \n",
            "[[267   3]\n",
            " [  7 236]]\n",
            "              precision    recall  f1-score   support\n",
            "\n",
            "           0       0.97      0.99      0.98       270\n",
            "           1       0.99      0.97      0.98       243\n",
            "\n",
            "    accuracy                           0.98       513\n",
            "   macro avg       0.98      0.98      0.98       513\n",
            "weighted avg       0.98      0.98      0.98       513\n",
            "\n",
            "cost-sensitive\n",
            "Accuracy :  0.9902534113060428\n",
            "Precision 0.990258880405246\n",
            "Recall :  0.9902534113060428\n",
            "F1-score :  0.9902523712142562\n",
            "Confusion Matrix : \n",
            "[[268   2]\n",
            " [  3 240]]\n",
            "              precision    recall  f1-score   support\n",
            "\n",
            "           0       0.99      0.99      0.99       270\n",
            "           1       0.99      0.99      0.99       243\n",
            "\n",
            "    accuracy                           0.99       513\n",
            "   macro avg       0.99      0.99      0.99       513\n",
            "weighted avg       0.99      0.99      0.99       513\n",
            "\n"
          ]
        }
      ]
    },
    {
      "cell_type": "code",
      "metadata": {
        "colab": {
          "base_uri": "https://localhost:8080/"
        },
        "id": "RmPbNRrIVLDj",
        "outputId": "cde9d449-2b9d-49a3-917d-7e1c33e0b964"
      },
      "source": [
        "AB = AdaBoostClassifier()\n",
        "AB.fit(m1_x_train, y_train)\n",
        "ABprob = AB.predict_proba(m1_x_test)\n",
        "y_pred = AB.predict(m1_x_test)\n",
        "print(\"cost-insensitive\")\n",
        "printMetrics(y_test,y_pred)\n",
        "\n",
        "AB = AdaBoostClassifier()\n",
        "AB.fit(m2_x_train, y_train)\n",
        "CS_ABprob = AB.predict_proba(m2_x_test)\n",
        "y_pred = AB.predict(m2_x_test)\n",
        "print(\"cost-sensitive\")\n",
        "printMetrics(y_test,y_pred)"
      ],
      "execution_count": 43,
      "outputs": [
        {
          "output_type": "stream",
          "name": "stdout",
          "text": [
            "cost-insensitive\n",
            "Accuracy :  0.9805068226120858\n",
            "Precision 0.9805281142813099\n",
            "Recall :  0.9805068226120858\n",
            "F1-score :  0.9805025127241268\n",
            "Confusion Matrix : \n",
            "[[266   4]\n",
            " [  6 237]]\n",
            "              precision    recall  f1-score   support\n",
            "\n",
            "           0       0.98      0.99      0.98       270\n",
            "           1       0.98      0.98      0.98       243\n",
            "\n",
            "    accuracy                           0.98       513\n",
            "   macro avg       0.98      0.98      0.98       513\n",
            "weighted avg       0.98      0.98      0.98       513\n",
            "\n",
            "cost-sensitive\n",
            "Accuracy :  0.98635477582846\n",
            "Precision 0.9864131482552535\n",
            "Recall :  0.98635477582846\n",
            "F1-score :  0.9863500933453018\n",
            "Confusion Matrix : \n",
            "[[268   2]\n",
            " [  5 238]]\n",
            "              precision    recall  f1-score   support\n",
            "\n",
            "           0       0.98      0.99      0.99       270\n",
            "           1       0.99      0.98      0.99       243\n",
            "\n",
            "    accuracy                           0.99       513\n",
            "   macro avg       0.99      0.99      0.99       513\n",
            "weighted avg       0.99      0.99      0.99       513\n",
            "\n"
          ]
        }
      ]
    },
    {
      "cell_type": "code",
      "metadata": {
        "colab": {
          "base_uri": "https://localhost:8080/"
        },
        "id": "6v8X2z4fVLGG",
        "outputId": "6ead4bc9-5d77-47f9-9573-50119590efe2"
      },
      "source": [
        "LSVM = svm.SVC(kernel='linear',probability=True)\n",
        "LSVM.fit(m1_x_train, y_train)\n",
        "LSVMprob = LSVM.predict_proba(m1_x_test)\n",
        "y_pred = LSVM.predict(m1_x_test)\n",
        "print(\"cost-insensitive\")\n",
        "printMetrics(y_test,y_pred)\n",
        "\n",
        "LSVM = svm.SVC(kernel='linear',probability=True)\n",
        "LSVM.fit(m2_x_train, y_train)\n",
        "CS_LSVMprob = LSVM.predict_proba(m2_x_test)\n",
        "y_pred = LSVM.predict(m2_x_test)\n",
        "print(\"cost-sensitive\")\n",
        "printMetrics(y_test,y_pred)"
      ],
      "execution_count": 44,
      "outputs": [
        {
          "output_type": "stream",
          "name": "stdout",
          "text": [
            "cost-insensitive\n",
            "Accuracy :  0.9785575048732943\n",
            "Precision 0.9787181858389289\n",
            "Recall :  0.9785575048732943\n",
            "F1-score :  0.9785444174628143\n",
            "Confusion Matrix : \n",
            "[[267   3]\n",
            " [  8 235]]\n",
            "              precision    recall  f1-score   support\n",
            "\n",
            "           0       0.97      0.99      0.98       270\n",
            "           1       0.99      0.97      0.98       243\n",
            "\n",
            "    accuracy                           0.98       513\n",
            "   macro avg       0.98      0.98      0.98       513\n",
            "weighted avg       0.98      0.98      0.98       513\n",
            "\n",
            "cost-sensitive\n",
            "Accuracy :  0.98635477582846\n",
            "Precision 0.9864131482552535\n",
            "Recall :  0.98635477582846\n",
            "F1-score :  0.9863500933453018\n",
            "Confusion Matrix : \n",
            "[[268   2]\n",
            " [  5 238]]\n",
            "              precision    recall  f1-score   support\n",
            "\n",
            "           0       0.98      0.99      0.99       270\n",
            "           1       0.99      0.98      0.99       243\n",
            "\n",
            "    accuracy                           0.99       513\n",
            "   macro avg       0.99      0.99      0.99       513\n",
            "weighted avg       0.99      0.99      0.99       513\n",
            "\n"
          ]
        }
      ]
    },
    {
      "cell_type": "code",
      "metadata": {
        "colab": {
          "base_uri": "https://localhost:8080/"
        },
        "id": "V-LawyEnVLIv",
        "outputId": "fe6148dc-8d7b-4791-8dda-0e0d666af88e"
      },
      "source": [
        "RSVM = svm.SVC(kernel='rbf',probability=True)\n",
        "RSVM.fit(m1_x_train, y_train)\n",
        "RSVMprob = RSVM.predict_proba(m1_x_test)\n",
        "y_pred = RSVM.predict(m1_x_test)\n",
        "print(\"cost-insensitive\")\n",
        "printMetrics(y_test,y_pred)\n",
        "\n",
        "RSVM = svm.SVC(kernel='linear',probability=True)\n",
        "RSVM.fit(m2_x_train, y_train)\n",
        "CS_RSVMprob = RSVM.predict_proba(m2_x_test)\n",
        "y_pred = RSVM.predict(m2_x_test)\n",
        "print(\"cost-sensitive\")\n",
        "printMetrics(y_test,y_pred)"
      ],
      "execution_count": 45,
      "outputs": [
        {
          "output_type": "stream",
          "name": "stdout",
          "text": [
            "cost-insensitive\n",
            "Accuracy :  0.9785575048732943\n",
            "Precision 0.9787181858389289\n",
            "Recall :  0.9785575048732943\n",
            "F1-score :  0.9785444174628143\n",
            "Confusion Matrix : \n",
            "[[267   3]\n",
            " [  8 235]]\n",
            "              precision    recall  f1-score   support\n",
            "\n",
            "           0       0.97      0.99      0.98       270\n",
            "           1       0.99      0.97      0.98       243\n",
            "\n",
            "    accuracy                           0.98       513\n",
            "   macro avg       0.98      0.98      0.98       513\n",
            "weighted avg       0.98      0.98      0.98       513\n",
            "\n",
            "cost-sensitive\n",
            "Accuracy :  0.98635477582846\n",
            "Precision 0.9864131482552535\n",
            "Recall :  0.98635477582846\n",
            "F1-score :  0.9863500933453018\n",
            "Confusion Matrix : \n",
            "[[268   2]\n",
            " [  5 238]]\n",
            "              precision    recall  f1-score   support\n",
            "\n",
            "           0       0.98      0.99      0.99       270\n",
            "           1       0.99      0.98      0.99       243\n",
            "\n",
            "    accuracy                           0.99       513\n",
            "   macro avg       0.99      0.99      0.99       513\n",
            "weighted avg       0.99      0.99      0.99       513\n",
            "\n"
          ]
        }
      ]
    },
    {
      "cell_type": "code",
      "metadata": {
        "id": "N7XLP5Nbetu9"
      },
      "source": [
        "SMALL_SIZE = 12\n",
        "MEDIUM_SIZE = 10\n",
        "BIGGER_SIZE = 18\n",
        "\n",
        "pyplot.rc('font', size=SMALL_SIZE)          # controls default text sizes\n",
        "pyplot.rc('axes', titlesize=SMALL_SIZE)     # fontsize of the axes title\n",
        "pyplot.rc('axes', labelsize=SMALL_SIZE)    # fontsize of the x and y labels\n",
        "pyplot.rc('xtick', labelsize=SMALL_SIZE)    # fontsize of the tick labels\n",
        "pyplot.rc('ytick', labelsize=SMALL_SIZE)    # fontsize of the tick labels\n",
        "pyplot.rc('legend', fontsize=BIGGER_SIZE)    # legend fontsize\n",
        "pyplot.rc('figure', titlesize=SMALL_SIZE)  # fontsize of the figure title\n",
        "\n",
        "def rocinfo(pred):\n",
        "  fpr = dict()\n",
        "  tpr = dict()\n",
        "  roc_auc = dict()\n",
        "  for i in range(2):\n",
        "      fpr[i], tpr[i], _ = roc_curve(y_test, pred)\n",
        "      roc_auc[i] = auc(fpr[i], tpr[i])\n",
        "  return fpr,tpr,roc_auc"
      ],
      "execution_count": 46,
      "outputs": []
    },
    {
      "cell_type": "code",
      "metadata": {
        "colab": {
          "base_uri": "https://localhost:8080/",
          "height": 627
        },
        "id": "xb32IwbJfALd",
        "outputId": "d8ff0d9c-96d3-42a2-9290-873ce7d0c259"
      },
      "source": [
        "pyplot.figure(figsize=(15,10))\n",
        "\n",
        "fpr,tpr,roc_auc = rocinfo(prediction_prob1) \n",
        "pyplot.plot(fpr[0], tpr[0],color='blue', lw=1, label='CNN - ROC curve (area = %0.2f)' % roc_auc[0])\n",
        "\n",
        "fpr,tpr,roc_auc = rocinfo(LRprob[:,1]) \n",
        "pyplot.plot(fpr[0], tpr[0],color='yellow', lw=1, label='CNN-LR - ROC curve (area = %0.2f)' % roc_auc[0])\n",
        "\n",
        "fpr,tpr,roc_auc = rocinfo(RFprob[:,1]) \n",
        "pyplot.plot(fpr[0], tpr[0],color='brown', lw=1, label='CNN-RF - ROC curve (area = %0.2f)' % roc_auc[0])\n",
        "\n",
        "fpr,tpr,roc_auc = rocinfo(DTprob[:,1]) \n",
        "pyplot.plot(fpr[0], tpr[0],color='darkorange', lw=1, label='CNN-DT - ROC curve (area = %0.2f)' % roc_auc[0])\n",
        "\n",
        "fpr,tpr,roc_auc = rocinfo(KNNprob[:,1]) \n",
        "pyplot.plot(fpr[0], tpr[0],color='green', lw=1, label='CNN-KNN - ROC curve (area = %0.2f)' % roc_auc[0])\n",
        "\n",
        "fpr,tpr,roc_auc = rocinfo(GNBprob[:,1]) \n",
        "pyplot.plot(fpr[0], tpr[0],color='cyan', lw=1, label='CNN-GNB - ROC curve (area = %0.2f)' % roc_auc[0])\n",
        "\n",
        "fpr,tpr,roc_auc = rocinfo(ABprob[:,1]) \n",
        "pyplot.plot(fpr[0], tpr[0],color='magenta', lw=1, label='CNN-AB - ROC curve (area = %0.2f)' % roc_auc[0])\n",
        "\n",
        "fpr,tpr,roc_auc = rocinfo(LSVMprob[:,1]) \n",
        "pyplot.plot(fpr[0], tpr[0],color='black', lw=1, label='CNN-LSVM - ROC curve (area = %0.2f)' % roc_auc[0])\n",
        "\n",
        "fpr,tpr,roc_auc = rocinfo(RSVMprob[:,1]) \n",
        "pyplot.plot(fpr[0], tpr[0],color='pink', lw=1, label='CNN-RSVM - ROC curve (area = %0.2f)' % roc_auc[0])\n",
        "\n",
        "plt.plot([0, 1], [0, 1], color='red', lw=1, linestyle='--')\n",
        "pyplot.xlim([0.0, 1.0])\n",
        "pyplot.ylim([0.0, 1.05])\n",
        "pyplot.xlabel('False Positive Rate')\n",
        "pyplot.ylabel('True Positive Rate')\n",
        "pyplot.title('CNN - Receiver operating characteristic')\n",
        "plt.legend(loc=\"lower right\")\n",
        "pyplot.show()"
      ],
      "execution_count": 47,
      "outputs": [
        {
          "output_type": "display_data",
          "data": {
            "image/png": "[encoded data removed]",
            "text/plain": [
              "<Figure size 1080x720 with 1 Axes>"
            ]
          },
          "metadata": {
            "needs_background": "light"
          }
        }
      ]
    },
    {
      "cell_type": "code",
      "metadata": {
        "colab": {
          "base_uri": "https://localhost:8080/",
          "height": 627
        },
        "id": "EHKjpLYEc3u_",
        "outputId": "a4efa5ba-5fb3-4d1e-b03f-00ff1e14e9d8"
      },
      "source": [
        "pyplot.figure(figsize=(15,10))\n",
        "\n",
        "fpr,tpr,roc_auc = rocinfo(prediction_prob) \n",
        "pyplot.plot(fpr[0], tpr[0],color='blue', lw=1, label='CSCNN - ROC curve (area = %0.2f)' % roc_auc[0])\n",
        "\n",
        "fpr,tpr,roc_auc = rocinfo(CS_LRprob[:,1]) \n",
        "pyplot.plot(fpr[0], tpr[0],color='yellow', lw=1, label='CSCNN-LR - ROC curve (area = %0.2f)' % roc_auc[0])\n",
        "\n",
        "fpr,tpr,roc_auc = rocinfo(CS_RFprob[:,1]) \n",
        "pyplot.plot(fpr[0], tpr[0],color='brown', lw=1, label='CSCNN-RF - ROC curve (area = %0.2f)' % roc_auc[0])\n",
        "\n",
        "fpr,tpr,roc_auc = rocinfo(CS_DTprob[:,1]) \n",
        "pyplot.plot(fpr[0], tpr[0],color='darkorange', lw=1, label='CSCNN-DT - ROC curve (area = %0.2f)' % roc_auc[0])\n",
        "\n",
        "fpr,tpr,roc_auc = rocinfo(CS_KNNprob[:,1]) \n",
        "pyplot.plot(fpr[0], tpr[0],color='green', lw=1, label='CSCNN-KNN - ROC curve (area = %0.2f)' % roc_auc[0])\n",
        "\n",
        "fpr,tpr,roc_auc = rocinfo(CS_GNBprob[:,1]) \n",
        "pyplot.plot(fpr[0], tpr[0],color='cyan', lw=1, label='CSCNN-GNB - ROC curve (area = %0.2f)' % roc_auc[0])\n",
        "\n",
        "fpr,tpr,roc_auc = rocinfo(CS_ABprob[:,1]) \n",
        "pyplot.plot(fpr[0], tpr[0],color='magenta', lw=1, label='CSCNN-AB - ROC curve (area = %0.2f)' % roc_auc[0])\n",
        "\n",
        "fpr,tpr,roc_auc = rocinfo(CS_LSVMprob[:,1]) \n",
        "pyplot.plot(fpr[0], tpr[0],color='black', lw=1, label='CSCNN-LSVM - ROC curve (area = %0.2f)' % roc_auc[0])\n",
        "\n",
        "fpr,tpr,roc_auc = rocinfo(CS_RSVMprob[:,1]) \n",
        "pyplot.plot(fpr[0], tpr[0],color='pink', lw=1, label='CSCNN-RSVM - ROC curve (area = %0.2f)' % roc_auc[0])\n",
        "\n",
        "plt.plot([0, 1], [0, 1], color='red', lw=1, linestyle='--')\n",
        "pyplot.xlim([0.0, 1.0])\n",
        "pyplot.ylim([0.0, 1.05])\n",
        "pyplot.xlabel('False Positive Rate')\n",
        "pyplot.ylabel('True Positive Rate')\n",
        "pyplot.title('CNN - Receiver operating characteristic')\n",
        "plt.legend(loc=\"lower right\")\n",
        "pyplot.show()"
      ],
      "execution_count": 48,
      "outputs": [
        {
          "output_type": "display_data",
          "data": {
            "image/png": "[encoded data removed]",
            "text/plain": [
              "<Figure size 1080x720 with 1 Axes>"
            ]
          },
          "metadata": {
            "needs_background": "light"
          }
        }
      ]
    },
    {
      "cell_type": "code",
      "metadata": {
        "id": "OzWSRgxLQAgF",
        "colab": {
          "base_uri": "https://localhost:8080/",
          "height": 17
        },
        "outputId": "e142e442-42a1-433b-ec3d-cd83c8a9a809"
      },
      "source": [
        "# !ls \"/Dataset/csl\"\n",
        "from google.colab import files\n",
        "# files.download('/Dataset/csl/checkpoint-0023.hdf5')\n",
        "files.download('/Dataset/csl/result_logger.csv')"
      ],
      "execution_count": 56,
      "outputs": [
        {
          "output_type": "display_data",
          "data": {
            "application/javascript": [
              "\n",
              "    async function download(id, filename, size) {\n",
              "      if (!google.colab.kernel.accessAllowed) {\n",
              "        return;\n",
              "      }\n",
              "      const div = document.createElement('div');\n",
              "      const label = document.createElement('label');\n",
              "      label.textContent = `Downloading \"${filename}\": `;\n",
              "      div.appendChild(label);\n",
              "      const progress = document.createElement('progress');\n",
              "      progress.max = size;\n",
              "      div.appendChild(progress);\n",
              "      document.body.appendChild(div);\n",
              "\n",
              "      const buffers = [];\n",
              "      let downloaded = 0;\n",
              "\n",
              "      const channel = await google.colab.kernel.comms.open(id);\n",
              "      // Send a message to notify the kernel that we're ready.\n",
              "      channel.send({})\n",
              "\n",
              "      for await (const message of channel.messages) {\n",
              "        // Send a message to notify the kernel that we're ready.\n",
              "        channel.send({})\n",
              "        if (message.buffers) {\n",
              "          for (const buffer of message.buffers) {\n",
              "            buffers.push(buffer);\n",
              "            downloaded += buffer.byteLength;\n",
              "            progress.value = downloaded;\n",
              "          }\n",
              "        }\n",
              "      }\n",
              "      const blob = new Blob(buffers, {type: 'application/binary'});\n",
              "      const a = document.createElement('a');\n",
              "      a.href = window.URL.createObjectURL(blob);\n",
              "      a.download = filename;\n",
              "      div.appendChild(a);\n",
              "      a.click();\n",
              "      div.remove();\n",
              "    }\n",
              "  "
            ],
            "text/plain": [
              "<IPython.core.display.Javascript object>"
            ]
          },
          "metadata": {}
        },
        {
          "output_type": "display_data",
          "data": {
            "application/javascript": [
              "download(\"download_ed3dfdc6-c766-48e8-ab54-70bb92761d59\", \"result_logger.csv\", 7368)"
            ],
            "text/plain": [
              "<IPython.core.display.Javascript object>"
            ]
          },
          "metadata": {}
        }
      ]
    }
  ]
}